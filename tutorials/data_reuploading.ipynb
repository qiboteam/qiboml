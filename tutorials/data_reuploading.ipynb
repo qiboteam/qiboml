{
 "cells": [
  {
   "cell_type": "markdown",
   "id": "10b6ffc3-a7a6-460e-9777-19e4d08f8ea2",
   "metadata": {},
   "source": [
    "### Use and train a Data Reuploading model\n",
    "\n",
    "In this tutorial we show how to setup and train a quantum machine learning model implementing a Data Reuploading strategy.\n",
    "\n",
    "The main idea behind data reuploading strategies is that data are encoded more than once into our quantum machine learning model. \n",
    "\n",
    "<img src=\"./figures/reuploading.svg\" width=\"600\" height=\"400\" alt=\"My Image\">"
   ]
  },
  {
   "cell_type": "code",
   "execution_count": 1,
   "id": "d98894d1-7544-4f37-97a6-b668c326cb9e",
   "metadata": {},
   "outputs": [
    {
     "name": "stderr",
     "output_type": "stream",
     "text": [
      "2025-05-15 11:48:11.367190: E external/local_xla/xla/stream_executor/cuda/cuda_fft.cc:467] Unable to register cuFFT factory: Attempting to register factory for plugin cuFFT when one has already been registered\n",
      "WARNING: All log messages before absl::InitializeLog() is called are written to STDERR\n",
      "E0000 00:00:1747302491.386422   84403 cuda_dnn.cc:8579] Unable to register cuDNN factory: Attempting to register factory for plugin cuDNN when one has already been registered\n",
      "E0000 00:00:1747302491.392155   84403 cuda_blas.cc:1407] Unable to register cuBLAS factory: Attempting to register factory for plugin cuBLAS when one has already been registered\n",
      "W0000 00:00:1747302491.406640   84403 computation_placer.cc:177] computation placer already registered. Please check linkage and avoid linking the same target more than once.\n",
      "W0000 00:00:1747302491.406669   84403 computation_placer.cc:177] computation placer already registered. Please check linkage and avoid linking the same target more than once.\n",
      "W0000 00:00:1747302491.406671   84403 computation_placer.cc:177] computation placer already registered. Please check linkage and avoid linking the same target more than once.\n",
      "W0000 00:00:1747302491.406673   84403 computation_placer.cc:177] computation placer already registered. Please check linkage and avoid linking the same target more than once.\n"
     ]
    }
   ],
   "source": [
    "import torch\n",
    "import numpy as np\n",
    "import matplotlib.pyplot as plt\n",
    "\n",
    "import torch.optim as optim\n",
    "import torch.nn as nn\n",
    "\n",
    "from qibo import Circuit, gates, hamiltonians, set_backend, construct_backend\n",
    "\n",
    "from qiboml.models.encoding import PhaseEncoding\n",
    "from qiboml.models.decoding import Expectation\n",
    "from qiboml.interfaces.pytorch import QuantumModel\n",
    "from qiboml.operations.differentiation import PSR, Jax"
   ]
  },
  {
   "cell_type": "code",
   "execution_count": 2,
   "id": "756852e1-9b55-4aa2-8bfa-4ace2033b577",
   "metadata": {},
   "outputs": [
    {
     "name": "stderr",
     "output_type": "stream",
     "text": [
      "[Qibo 0.2.19|INFO|2025-05-15 11:48:13]: Using qiboml (pytorch) backend on cpu\n"
     ]
    },
    {
     "data": {
      "image/png": "[encoded data removed]",
      "text/plain": [
       "<Figure size 720x60 with 1 Axes>"
      ]
     },
     "metadata": {},
     "output_type": "display_data"
    }
   ],
   "source": [
    "set_backend(\"qiboml\", platform=\"pytorch\")\n",
    "\n",
    "nqubits = 1\n",
    "\n",
    "# Encoding layer\n",
    "encoding_circ = PhaseEncoding(\n",
    "    nqubits=nqubits, \n",
    "    encoding_gate=gates.RX\n",
    ")\n",
    "\n",
    "\n",
    "# Trainable layer\n",
    "def trainable_circuit(entanglement=True):\n",
    "    trainable_circ  = Circuit(nqubits)\n",
    "    for q in range(nqubits):\n",
    "        trainable_circ.add(gates.RY(q=q, theta=np.random.randn()))\n",
    "        trainable_circ.add(gates.RZ(q=q, theta=np.random.randn()))\n",
    "    if nqubits > 1 and entanglement:\n",
    "        [trainable_circ.add(gates.CNOT(q%nqubits, (q+1)%nqubits) for q in range(nqubits))]\n",
    "    return trainable_circ\n",
    "\n",
    "# Decoding layer\n",
    "decoding_circ = Expectation(\n",
    "    nqubits=nqubits, \n",
    "    # backend=construct_backend(\"qiboml\", platform=\"pytorch\")\n",
    "    backend=construct_backend(\"numpy\")\n",
    ")\n",
    "\n",
    "# The whole model\n",
    "model = QuantumModel(\n",
    "    circuit_structure=[\n",
    "        encoding_circ, \n",
    "        trainable_circuit(entanglement=True),\n",
    "        encoding_circ, \n",
    "        trainable_circuit(entanglement=True),\n",
    "        encoding_circ, \n",
    "        trainable_circuit(entanglement=True),\n",
    "        encoding_circ, \n",
    "        trainable_circuit(entanglement=True)\n",
    "    ],\n",
    "    decoding=decoding_circ,\n",
    "    differentiation=PSR(),    \n",
    ")\n",
    "\n",
    "fig = model.draw()"
   ]
  },
  {
   "cell_type": "code",
   "execution_count": 3,
   "id": "25150a54-9ffc-42f3-b17d-c11e255d37ba",
   "metadata": {},
   "outputs": [],
   "source": [
    "encoding_circ = PhaseEncoding(\n",
    "    nqubits=nqubits, \n",
    "    encoding_gate=gates.RX\n",
    ")"
   ]
  },
  {
   "cell_type": "code",
   "execution_count": 4,
   "id": "0125697b-014b-4ada-a9a4-e3ed8a32ec02",
   "metadata": {},
   "outputs": [],
   "source": [
    "# Prepare the training dataset (using f(x) = sin(x) as the target function)\n",
    "def f(x):\n",
    "    return 1 * torch.sin(x)  ** 2 - 0.3 * torch.cos(x) \n",
    "\n",
    "num_samples = 30\n",
    "x_train = torch.linspace(0, 2 * np.pi, num_samples, dtype=torch.float64).unsqueeze(1)\n",
    "y_train = f(x_train)\n",
    "\n",
    "y_train = 2 * ( (y_train - min(y_train)) / (max(y_train) - min(y_train)) - 0.5 )"
   ]
  },
  {
   "cell_type": "code",
   "execution_count": 5,
   "id": "fdfc2f01-13d5-42ab-b3ba-fe62025950bd",
   "metadata": {},
   "outputs": [],
   "source": [
    "optimizer = optim.Adam(model.parameters(), lr=0.1)\n",
    "criterion = nn.MSELoss()"
   ]
  },
  {
   "cell_type": "code",
   "execution_count": 6,
   "id": "07a15857-ff5e-409e-839d-dc91ae413932",
   "metadata": {},
   "outputs": [
    {
     "name": "stdout",
     "output_type": "stream",
     "text": [
      "Epoch 0: Loss = 0.8558333966746269\n",
      "Epoch 10: Loss = 0.33390149288045723\n",
      "Epoch 20: Loss = 0.08361807248657441\n",
      "Epoch 30: Loss = 0.014763984818708812\n",
      "Epoch 40: Loss = 0.0063559957125084495\n",
      "Epoch 50: Loss = 0.003209224062693669\n",
      "Epoch 60: Loss = 0.002680422296616385\n",
      "Epoch 70: Loss = 0.0027207510593479267\n",
      "Epoch 80: Loss = 0.002655966613032393\n",
      "Epoch 90: Loss = 0.0026215086859041124\n",
      "Epoch 100: Loss = 0.0025957571761900233\n",
      "Epoch 110: Loss = 0.00258020431417754\n",
      "Epoch 120: Loss = 0.0025693338352920977\n",
      "Epoch 130: Loss = 0.0025608953600654762\n",
      "Epoch 140: Loss = 0.002554323225575335\n"
     ]
    }
   ],
   "source": [
    "epochs = 150\n",
    "for epoch in range(epochs):\n",
    "    optimizer.zero_grad()\n",
    "    # Use torch.stack to get a tensor of shape (100, 1, 1)\n",
    "    y_pred = torch.stack([model(x) for x in x_train])\n",
    "    # Remove the extra singleton dimension so that y_pred has shape (100, 1)\n",
    "    y_pred = y_pred.squeeze(-1)\n",
    "    \n",
    "    loss = criterion(y_pred, y_train)\n",
    "    loss.backward()\n",
    "    optimizer.step()    \n",
    "    if epoch % 10 == 0:\n",
    "        print(f\"Epoch {epoch}: Loss = {loss.item()}\")"
   ]
  },
  {
   "cell_type": "code",
   "execution_count": 9,
   "id": "58a5a723-0448-426d-b639-bceaee5c1e02",
   "metadata": {},
   "outputs": [
    {
     "data": {
      "image/png": "[encoded data removed]",
      "text/plain": [
       "<Figure size 400x300 with 1 Axes>"
      ]
     },
     "metadata": {},
     "output_type": "display_data"
    }
   ],
   "source": [
    "plt.figure(figsize=(4, 4 * 6 / 8), dpi=100)\n",
    "plt.plot(\n",
    "    x_train, \n",
    "    y_pred.detach().numpy(), \n",
    "    marker=\".\",\n",
    "    markersize=10,\n",
    "    color=\"red\", \n",
    "    label=\"Predictions\",\n",
    "    alpha=0.7\n",
    ")\n",
    "plt.plot(\n",
    "    x_train, \n",
    "    y_train,\n",
    "    marker=\".\",\n",
    "    markersize=10,\n",
    "    color=\"blue\", \n",
    "    label=\"Targets\",\n",
    "    alpha=0.7\n",
    ")\n",
    "plt.xlabel(r\"x\")\n",
    "plt.ylabel(r\"f(x)\")\n",
    "plt.legend()\n",
    "plt.show()"
   ]
  },
  {
   "cell_type": "code",
   "execution_count": null,
   "id": "0e4642d3-7929-44df-a53b-f287782ccc5c",
   "metadata": {},
   "outputs": [],
   "source": []
  },
  {
   "cell_type": "code",
   "execution_count": null,
   "id": "a838dc9e-471d-4928-ab3a-6fa36011b657",
   "metadata": {},
   "outputs": [],
   "source": []
  }
 ],
 "metadata": {
  "kernelspec": {
   "display_name": "Python 3 (ipykernel)",
   "language": "python",
   "name": "python3"
  },
  "language_info": {
   "codemirror_mode": {
    "name": "ipython",
    "version": 3
   },
   "file_extension": ".py",
   "mimetype": "text/x-python",
   "name": "python",
   "nbconvert_exporter": "python",
   "pygments_lexer": "ipython3",
   "version": "3.11.11"
  }
 },
 "nbformat": 4,
 "nbformat_minor": 5
}
