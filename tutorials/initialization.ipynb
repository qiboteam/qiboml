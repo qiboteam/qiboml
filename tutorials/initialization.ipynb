{
 "cells": [
  {
   "cell_type": "code",
   "execution_count": 1,
   "id": "fae126c8",
   "metadata": {},
   "outputs": [
    {
     "name": "stderr",
     "output_type": "stream",
     "text": [
      "2025-06-10 09:20:18.678668: I tensorflow/core/platform/cpu_feature_guard.cc:210] This TensorFlow binary is optimized to use available CPU instructions in performance-critical operations.\n",
      "To enable the following instructions: AVX2 FMA, in other operations, rebuild TensorFlow with the appropriate compiler flags.\n"
     ]
    }
   ],
   "source": [
    "import tensorflow as tf\n",
    "import numpy as np\n",
    "import matplotlib.pyplot as plt\n",
    "import keras\n",
    "import torch\n",
    "\n",
    "\n",
    "from qibo import Circuit, gates, set_backend\n",
    "from qibo.symbols import Z\n",
    "from qibo.hamiltonians import SymbolicHamiltonian\n",
    "\n",
    "from qiboml.models.encoding import PhaseEncoding, BinaryEncoding\n",
    "from qiboml.models.decoding import Expectation\n",
    "from qiboml.operations.differentiation import PSR"
   ]
  },
  {
   "cell_type": "markdown",
   "id": "05004689",
   "metadata": {},
   "source": [
    "First of all, let's create an encoding, a decoding and a trainable circuit."
   ]
  },
  {
   "cell_type": "code",
   "execution_count": 2,
   "id": "83cbfb2f",
   "metadata": {},
   "outputs": [
    {
     "name": "stderr",
     "output_type": "stream",
     "text": [
      "[Qibo 0.2.18|INFO|2025-06-10 09:20:29]: Using numpy backend on /CPU:0\n"
     ]
    }
   ],
   "source": [
    "nqubits = 2\n",
    "encoding = BinaryEncoding(nqubits=nqubits)\n",
    "\n",
    "# we construct a trainable parametrized circuit\n",
    "# that is the core of our quantum model\n",
    "circuit = Circuit(nqubits)\n",
    "for _ in range(5):\n",
    "    for q in range(nqubits):\n",
    "        circuit.add(gates.RY(q, theta=np.random.randn() * np.pi))\n",
    "        circuit.add(gates.RZ(q, theta=np.random.randn() * np.pi))\n",
    "    circuit.add(gates.CNOT(0,1))\n",
    "\n",
    "observable = SymbolicHamiltonian(Z(0), nqubits=nqubits)\n",
    "# and then construct the expectation decoder\n",
    "decoding = Expectation(nqubits=nqubits, observable=observable)"
   ]
  },
  {
   "cell_type": "markdown",
   "id": "a4b11ab2",
   "metadata": {},
   "source": [
    "## Keras\n",
    "\n",
    "The initialisation procedure allows three different scenarios: \n",
    "\n",
    "(1) No initialisation from the user, which triggers the default settings (gaussian init of the parameters); \\\n",
    "(2) Initialisation with a np.ndarray; \\\n",
    "(3) Initialisation with tf.keras.initializers.Initializer; "
   ]
  },
  {
   "cell_type": "code",
   "execution_count": 3,
   "id": "957fc869",
   "metadata": {},
   "outputs": [
    {
     "name": "stderr",
     "output_type": "stream",
     "text": [
      "[Qibo 0.2.18|INFO|2025-06-10 09:11:53]: Using qiboml (tensorflow) backend on /device:CPU:0\n"
     ]
    }
   ],
   "source": [
    "from qiboml.interfaces.keras import QuantumModel\n",
    "set_backend(backend=\"qiboml\", platform=\"tensorflow\")"
   ]
  },
  {
   "cell_type": "markdown",
   "id": "6e186ac6",
   "metadata": {},
   "source": [
    "Let's test the first scenario: no initialisation."
   ]
  },
  {
   "cell_type": "code",
   "execution_count": 4,
   "id": "7f5e891e",
   "metadata": {},
   "outputs": [
    {
     "data": {
      "text/plain": [
       "<Variable path=quantum_model/variable, shape=(20,), dtype=float32, value=[-0.00348381  0.00055974  0.00169785  0.00889099 -0.02072026  0.00905712\n",
       " -0.00488633  0.01032944 -0.00485224 -0.00010711  0.00524021  0.0123707\n",
       "  0.00753574 -0.01869221  0.00583563  0.00674955 -0.00218423 -0.00207006\n",
       "  0.00903391 -0.00558459]>"
      ]
     },
     "execution_count": 4,
     "metadata": {},
     "output_type": "execute_result"
    }
   ],
   "source": [
    "q_model = QuantumModel(\n",
    "    circuit_structure=[encoding, circuit],\n",
    "    decoding=decoding\n",
    ")\n",
    "q_model.circuit_parameters"
   ]
  },
  {
   "cell_type": "markdown",
   "id": "289d742b",
   "metadata": {},
   "source": [
    "Now, let's test the second scenario scenario: np.ndarray. \n",
    "In this case we must be careful with the shape of the array: as an example I will show what happens when the shape is not correct and when the shape is correct;"
   ]
  },
  {
   "cell_type": "code",
   "execution_count": 5,
   "id": "58d7dfd9",
   "metadata": {},
   "outputs": [
    {
     "ename": "ValueError",
     "evalue": "Shape not valid for angles_initialisation. The shape should be (20,).",
     "output_type": "error",
     "traceback": [
      "\u001b[31m---------------------------------------------------------------------------\u001b[39m",
      "\u001b[31mValueError\u001b[39m                                Traceback (most recent call last)",
      "\u001b[36mCell\u001b[39m\u001b[36m \u001b[39m\u001b[32mIn[5]\u001b[39m\u001b[32m, line 1\u001b[39m\n\u001b[32m----> \u001b[39m\u001b[32m1\u001b[39m q_model = \u001b[43mQuantumModel\u001b[49m\u001b[43m(\u001b[49m\n\u001b[32m      2\u001b[39m \u001b[43m    \u001b[49m\u001b[43mcircuit_structure\u001b[49m\u001b[43m=\u001b[49m\u001b[43m[\u001b[49m\u001b[43mencoding\u001b[49m\u001b[43m,\u001b[49m\u001b[43m \u001b[49m\u001b[43mcircuit\u001b[49m\u001b[43m]\u001b[49m\u001b[43m,\u001b[49m\n\u001b[32m      3\u001b[39m \u001b[43m    \u001b[49m\u001b[43mangles_initialisation\u001b[49m\u001b[43m \u001b[49m\u001b[43m=\u001b[49m\u001b[43m \u001b[49m\u001b[43mnp\u001b[49m\u001b[43m.\u001b[49m\u001b[43mones\u001b[49m\u001b[43m(\u001b[49m\u001b[43mshape\u001b[49m\u001b[43m=\u001b[49m\u001b[43m(\u001b[49m\u001b[32;43m100\u001b[39;49m\u001b[43m,\u001b[49m\u001b[43m \u001b[49m\u001b[32;43m100\u001b[39;49m\u001b[43m)\u001b[49m\u001b[43m)\u001b[49m\u001b[43m,\u001b[49m\n\u001b[32m      4\u001b[39m \u001b[43m    \u001b[49m\u001b[43mdecoding\u001b[49m\u001b[43m=\u001b[49m\u001b[43mdecoding\u001b[49m\n\u001b[32m      5\u001b[39m \u001b[43m)\u001b[49m\n",
      "\u001b[36mFile \u001b[39m\u001b[32m<string>:7\u001b[39m, in \u001b[36m__init__\u001b[39m\u001b[34m(self, circuit_structure, decoding, angles_initialisation, differentiation)\u001b[39m\n",
      "\u001b[36mFile \u001b[39m\u001b[32m~/Desktop/Niccolo/PhD/My-Papers/QiboML/qiboml/src/qiboml/interfaces/keras.py:81\u001b[39m, in \u001b[36mQuantumModel.__post_init__\u001b[39m\u001b[34m(self)\u001b[39m\n\u001b[32m     79\u001b[39m \u001b[38;5;28;01melif\u001b[39;00m \u001b[38;5;28misinstance\u001b[39m(\u001b[38;5;28mself\u001b[39m.angles_initialisation, np.ndarray):\n\u001b[32m     80\u001b[39m     \u001b[38;5;28;01mif\u001b[39;00m \u001b[38;5;28mself\u001b[39m.angles_initialisation.shape != params.shape:\n\u001b[32m---> \u001b[39m\u001b[32m81\u001b[39m         \u001b[38;5;28;01mraise\u001b[39;00m \u001b[38;5;167;01mValueError\u001b[39;00m(\n\u001b[32m     82\u001b[39m             \u001b[33mf\u001b[39m\u001b[33m\"\u001b[39m\u001b[33mShape not valid for angles_initialisation. The shape should be \u001b[39m\u001b[38;5;132;01m{\u001b[39;00mparams.shape\u001b[38;5;132;01m}\u001b[39;00m\u001b[33m.\u001b[39m\u001b[33m\"\u001b[39m\n\u001b[32m     83\u001b[39m         )\n\u001b[32m     84\u001b[39m     \u001b[38;5;28mself\u001b[39m.circuit_parameters = \u001b[38;5;28mself\u001b[39m.add_weight(\n\u001b[32m     85\u001b[39m         shape=params.shape,\n\u001b[32m     86\u001b[39m         initializer=\u001b[33m\"\u001b[39m\u001b[33mzeros\u001b[39m\u001b[33m\"\u001b[39m,\n\u001b[32m     87\u001b[39m         trainable=\u001b[38;5;28;01mTrue\u001b[39;00m,\n\u001b[32m     88\u001b[39m     )\n\u001b[32m     89\u001b[39m     \u001b[38;5;28mself\u001b[39m.circuit_parameters.assign(\u001b[38;5;28mself\u001b[39m.angles_initialisation)\n",
      "\u001b[31mValueError\u001b[39m: Shape not valid for angles_initialisation. The shape should be (20,)."
     ]
    }
   ],
   "source": [
    "q_model = QuantumModel(\n",
    "    circuit_structure=[encoding, circuit],\n",
    "    angles_initialisation = np.ones(shape=(100, 100)),\n",
    "    decoding=decoding\n",
    ")"
   ]
  },
  {
   "cell_type": "code",
   "execution_count": null,
   "id": "38533760",
   "metadata": {},
   "outputs": [
    {
     "data": {
      "text/plain": [
       "<Variable path=quantum_model_2/variable_1, shape=(20,), dtype=float32, value=[1. 1. 1. 1. 1. 1. 1. 1. 1. 1. 1. 1. 1. 1. 1. 1. 1. 1. 1. 1.]>"
      ]
     },
     "execution_count": 6,
     "metadata": {},
     "output_type": "execute_result"
    }
   ],
   "source": [
    "q_model = QuantumModel(\n",
    "    circuit_structure=[encoding, circuit],\n",
    "    angles_initialisation = np.ones(shape=(20,)),\n",
    "    decoding=decoding\n",
    ")\n",
    "q_model.circuit_parameters"
   ]
  },
  {
   "cell_type": "markdown",
   "id": "592b6b9a",
   "metadata": {},
   "source": [
    "Finally, we show the last possibility for parameters initialisation: tf.keras.initializers.Initializer.\n",
    "This technique is convenient because it does not require to be careful with the shape of the parameters."
   ]
  },
  {
   "cell_type": "code",
   "execution_count": 7,
   "id": "175c4067",
   "metadata": {},
   "outputs": [
    {
     "data": {
      "text/plain": [
       "<Variable path=quantum_model_3/variable_2, shape=(20,), dtype=float32, value=[-0.02237872 -0.03726705  0.02841783  0.04559671 -0.02656081  0.04821536\n",
       " -0.01313218  0.00604746 -0.0369916  -0.04520694  0.00813205 -0.00796653\n",
       "  0.00999292 -0.00953228  0.03554766  0.03193274 -0.01563294  0.0425458\n",
       " -0.02057029  0.0278796 ]>"
      ]
     },
     "execution_count": 7,
     "metadata": {},
     "output_type": "execute_result"
    }
   ],
   "source": [
    "q_model = QuantumModel(\n",
    "    circuit_structure=[encoding, circuit],\n",
    "    angles_initialisation = keras.initializers.RandomUniform(minval=-0.05, maxval=0.05, seed=None),\n",
    "    decoding=decoding\n",
    ")\n",
    "q_model.circuit_parameters"
   ]
  },
  {
   "cell_type": "markdown",
   "id": "6f477427",
   "metadata": {},
   "source": [
    "## PyTorch\n",
    "\n",
    "The initialisation procedure allows three different scenarios: \n",
    "\n",
    "(1) No initialisation from the user, which triggers the default settings (gaussian init of the parameters); \\\n",
    "(2) Initialisation with a np.ndarray; \\\n",
    "(3) Initialisation with torch.nn.init; "
   ]
  },
  {
   "cell_type": "code",
   "execution_count": 3,
   "id": "dd8284f2",
   "metadata": {},
   "outputs": [
    {
     "name": "stderr",
     "output_type": "stream",
     "text": [
      "[Qibo 0.2.18|INFO|2025-06-10 09:20:35]: Using qiboml (pytorch) backend on cpu\n"
     ]
    }
   ],
   "source": [
    "from qiboml.interfaces.pytorch import QuantumModel\n",
    "set_backend(backend=\"qiboml\", platform=\"pytorch\")"
   ]
  },
  {
   "cell_type": "code",
   "execution_count": 4,
   "id": "5d4366af",
   "metadata": {},
   "outputs": [
    {
     "data": {
      "text/plain": [
       "Parameter containing:\n",
       "tensor([ 2.0815e-03,  6.3532e-03, -2.1408e-02, -1.2228e-02, -1.6009e-03,\n",
       "         4.8261e-03,  7.8765e-03,  1.5450e-02,  5.2157e-03, -3.8650e-03,\n",
       "         1.1582e-02,  1.1548e-03, -1.7946e-02,  5.9990e-03,  7.5558e-03,\n",
       "         4.8045e-03, -7.1005e-05,  2.0482e-03,  6.0442e-03,  1.2766e-02],\n",
       "       requires_grad=True)"
      ]
     },
     "execution_count": 4,
     "metadata": {},
     "output_type": "execute_result"
    }
   ],
   "source": [
    "q_model = QuantumModel(\n",
    "    circuit_structure=[encoding, circuit],\n",
    "    decoding=decoding\n",
    ")\n",
    "q_model.circuit_parameters"
   ]
  },
  {
   "cell_type": "markdown",
   "id": "98ac6b56",
   "metadata": {},
   "source": [
    "Now, let's test the second scenario scenario: np.ndarray. \n",
    "In this case we must be careful with the shape of the array: as an example I will show what happens when the shape is not correct and when the shape is correct;"
   ]
  },
  {
   "cell_type": "code",
   "execution_count": 5,
   "id": "a7b0d617",
   "metadata": {},
   "outputs": [
    {
     "ename": "ValueError",
     "evalue": "Shape not valid for angles_initialisation. The shape should be (20,).",
     "output_type": "error",
     "traceback": [
      "\u001b[31m---------------------------------------------------------------------------\u001b[39m",
      "\u001b[31mValueError\u001b[39m                                Traceback (most recent call last)",
      "\u001b[36mCell\u001b[39m\u001b[36m \u001b[39m\u001b[32mIn[5]\u001b[39m\u001b[32m, line 1\u001b[39m\n\u001b[32m----> \u001b[39m\u001b[32m1\u001b[39m q_model = \u001b[43mQuantumModel\u001b[49m\u001b[43m(\u001b[49m\n\u001b[32m      2\u001b[39m \u001b[43m    \u001b[49m\u001b[43mcircuit_structure\u001b[49m\u001b[43m=\u001b[49m\u001b[43m[\u001b[49m\u001b[43mencoding\u001b[49m\u001b[43m,\u001b[49m\u001b[43m \u001b[49m\u001b[43mcircuit\u001b[49m\u001b[43m]\u001b[49m\u001b[43m,\u001b[49m\n\u001b[32m      3\u001b[39m \u001b[43m    \u001b[49m\u001b[43mangles_initialisation\u001b[49m\u001b[43m=\u001b[49m\u001b[43mnp\u001b[49m\u001b[43m.\u001b[49m\u001b[43mones\u001b[49m\u001b[43m(\u001b[49m\u001b[43mshape\u001b[49m\u001b[43m=\u001b[49m\u001b[43m(\u001b[49m\u001b[32;43m100\u001b[39;49m\u001b[43m,\u001b[49m\u001b[43m \u001b[49m\u001b[32;43m100\u001b[39;49m\u001b[43m)\u001b[49m\u001b[43m)\u001b[49m\u001b[43m,\u001b[49m\n\u001b[32m      4\u001b[39m \u001b[43m    \u001b[49m\u001b[43mdecoding\u001b[49m\u001b[43m=\u001b[49m\u001b[43mdecoding\u001b[49m\n\u001b[32m      5\u001b[39m \u001b[43m)\u001b[49m\n\u001b[32m      6\u001b[39m q_model.circuit_parameters\n",
      "\u001b[36mFile \u001b[39m\u001b[32m<string>:7\u001b[39m, in \u001b[36m__init__\u001b[39m\u001b[34m(self, circuit_structure, decoding, angles_initialisation, differentiation)\u001b[39m\n",
      "\u001b[36mFile \u001b[39m\u001b[32m~/Desktop/Niccolo/PhD/My-Papers/QiboML/qiboml/src/qiboml/interfaces/pytorch.py:67\u001b[39m, in \u001b[36mQuantumModel.__post_init__\u001b[39m\u001b[34m(self)\u001b[39m\n\u001b[32m     65\u001b[39m \u001b[38;5;28;01mif\u001b[39;00m \u001b[38;5;28mself\u001b[39m.angles_initialisation.shape != params.shape:\n\u001b[32m     66\u001b[39m     params = params.numpy()\n\u001b[32m---> \u001b[39m\u001b[32m67\u001b[39m     \u001b[38;5;28;01mraise\u001b[39;00m \u001b[38;5;167;01mValueError\u001b[39;00m(\n\u001b[32m     68\u001b[39m         \u001b[33mf\u001b[39m\u001b[33m\"\u001b[39m\u001b[33mShape not valid for angles_initialisation. The shape should be \u001b[39m\u001b[38;5;132;01m{\u001b[39;00mparams.shape\u001b[38;5;132;01m}\u001b[39;00m\u001b[33m.\u001b[39m\u001b[33m\"\u001b[39m\n\u001b[32m     69\u001b[39m     )\n\u001b[32m     70\u001b[39m parameters = torch.as_tensor(\n\u001b[32m     71\u001b[39m     \u001b[38;5;28mself\u001b[39m.backend.to_numpy(x=\u001b[38;5;28mself\u001b[39m.angles_initialisation)\n\u001b[32m     72\u001b[39m ).ravel()\n\u001b[32m     73\u001b[39m parameters.requires_grad = \u001b[38;5;28;01mTrue\u001b[39;00m\n",
      "\u001b[31mValueError\u001b[39m: Shape not valid for angles_initialisation. The shape should be (20,)."
     ]
    }
   ],
   "source": [
    "q_model = QuantumModel(\n",
    "    circuit_structure=[encoding, circuit],\n",
    "    angles_initialisation=np.ones(shape=(100, 100)),\n",
    "    decoding=decoding\n",
    ")\n",
    "q_model.circuit_parameters"
   ]
  },
  {
   "cell_type": "code",
   "execution_count": 7,
   "id": "e8675f72",
   "metadata": {},
   "outputs": [
    {
     "data": {
      "text/plain": [
       "Parameter containing:\n",
       "tensor([1., 1., 1., 1., 1., 1., 1., 1., 1., 1., 1., 1., 1., 1., 1., 1., 1., 1.,\n",
       "        1., 1.], dtype=torch.float64, requires_grad=True)"
      ]
     },
     "execution_count": 7,
     "metadata": {},
     "output_type": "execute_result"
    }
   ],
   "source": [
    "q_model = QuantumModel(\n",
    "    circuit_structure=[encoding, circuit],\n",
    "    angles_initialisation=np.ones(shape=(20,)),\n",
    "    decoding=decoding\n",
    ")\n",
    "q_model.circuit_parameters"
   ]
  },
  {
   "cell_type": "code",
   "execution_count": 6,
   "id": "6f119491",
   "metadata": {},
   "outputs": [
    {
     "data": {
      "text/plain": [
       "tensor([0.4116, 0.9851, 0.8940, 0.3274, 0.2381, 0.7679, 0.4386, 0.3742, 0.6395,\n",
       "        0.2862, 0.0769, 0.6143, 0.0378, 0.2268, 0.1345, 0.6334, 0.8914, 0.7569,\n",
       "        0.7454, 0.1061])"
      ]
     },
     "execution_count": 6,
     "metadata": {},
     "output_type": "execute_result"
    }
   ],
   "source": [
    "q_model = QuantumModel(\n",
    "    circuit_structure=[encoding, circuit],\n",
    "    angles_initialisation=torch.nn.init.uniform_,\n",
    "    decoding=decoding\n",
    ")\n",
    "q_model.circuit_parameters"
   ]
  },
  {
   "cell_type": "code",
   "execution_count": null,
   "id": "6e901c0a",
   "metadata": {},
   "outputs": [],
   "source": []
  }
 ],
 "metadata": {
  "kernelspec": {
   "display_name": "venvqiboml",
   "language": "python",
   "name": "python3"
  },
  "language_info": {
   "codemirror_mode": {
    "name": "ipython",
    "version": 3
   },
   "file_extension": ".py",
   "mimetype": "text/x-python",
   "name": "python",
   "nbconvert_exporter": "python",
   "pygments_lexer": "ipython3",
   "version": "3.12.2"
  }
 },
 "nbformat": 4,
 "nbformat_minor": 5
}
