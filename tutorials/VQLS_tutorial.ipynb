{
  "cells": [
    {
      "cell_type": "markdown",
      "metadata": {
        "id": "TrQlVlWuUg2r"
      },
      "source": [
        "# Variational Quantum Linear Solver\n",
        "##### This tutorial aims to implement the Variational Quantum Linear Solver(VQLS) algorithm proposed by [Carlos Bravo-Prieto et al](https://arxiv.org/pdf/1909.05820).\n",
        "\n",
        "![VQLS Diagram](figures/VQLS_Diagram.png)\n",
        "\n",
        "##### The algorithm takes as input a matrix A written as a linear combination of unitaries A<sub>L</sub> and a short-depth quantum circuit U which prepares the state |b⟩, and produces a quantum state |x⟩ that is approximately proportional to the solution of the linear system Ax= b."
      ]
    },
    {
      "cell_type": "markdown",
      "metadata": {
        "id": "sEOoLKvzhrPs"
      },
      "source": [
        "## Imports"
      ]
    },
    {
      "cell_type": "code",
      "execution_count": 1,
      "metadata": {
        "colab": {
          "base_uri": "https://localhost:8080/",
          "height": 378
        },
        "id": "8YRph1HygIGb",
        "outputId": "6e75c4d1-9f07-4a66-b3c6-cc7d848f9234"
      },
      "outputs": [],
      "source": [
        "import numpy as np\n",
        "import matplotlib.pyplot as plt\n",
        "\n",
        "import torch\n",
        "import torch.optim as optim\n",
        "\n",
        "from qibo import (\n",
        "    Circuit,\n",
        "    gates,\n",
        "    set_backend,\n",
        ")\n",
        "\n",
        "from qiboml.models.decoding import VariationalQuantumLinearSolver\n",
        "from qiboml.interfaces.pytorch import QuantumModel"
      ]
    },
    {
      "cell_type": "markdown",
      "metadata": {
        "id": "lp_QtM0tj0TN"
      },
      "source": [
        "## Define Hyperparameters\n",
        "##### Setting backend to \"pytorch\" enables automatic differentiation of quantum circuits using PyTorch. This allows us to use the ADAM optimizer when optimizing the circuit parameters."
      ]
    },
    {
      "cell_type": "code",
      "execution_count": 2,
      "metadata": {
        "colab": {
          "base_uri": "https://localhost:8080/"
        },
        "id": "9cXZa-94kEmL",
        "outputId": "2fef21ee-6592-4546-980c-9c004232dac7"
      },
      "outputs": [
        {
          "name": "stderr",
          "output_type": "stream",
          "text": [
            "[Qibo 0.2.18|INFO|2025-06-30 09:08:47]: Using qiboml (pytorch) backend on cpu\n"
          ]
        }
      ],
      "source": [
        "# Set backend\n",
        "set_backend(\"qiboml\", platform=\"pytorch\")\n",
        "\n",
        "# Hyper-parameters\n",
        "n_qubits = 3\n",
        "q_delta  = 0.001\n",
        "rng_seed = 42\n",
        "np.random.seed(rng_seed)\n",
        "weights = q_delta * np.random.randn(n_qubits)"
      ]
    },
    {
      "cell_type": "markdown",
      "metadata": {
        "id": "WccZ1ST1lm7X"
      },
      "source": [
        "## Representing our Matrix(A) and Target Vector(b)\n",
        "##### Matrix A must be represented as a linear combination of unitaries A<sub>L</sub>"
      ]
    },
    {
      "cell_type": "code",
      "execution_count": 3,
      "metadata": {
        "id": "yIR6fdb8mey0"
      },
      "outputs": [],
      "source": [
        "c = np.array([1.0, 0.2, 0.2]) # Coefficients of the linear combination A = c_0 A_0 + c_1 A_1 ...\n",
        "\n",
        "Id = np.identity(2)\n",
        "Z = np.array([[1, 0], [0, -1]])\n",
        "X = np.array([[0, 1], [1, 0]])\n",
        "\n",
        "A_0 = np.identity(8)\n",
        "A_1 = np.kron(np.kron(X, Z), Id)\n",
        "A_2 = np.kron(np.kron(X, Id), Id)\n",
        "\n",
        "# Linear combination A = c₀A₀ + c₁A₁ + c₂A₂\n",
        "A_num = c[0] * A_0 + c[1] * A_1 + c[2] * A_2\n",
        "\n",
        "# Target Vector\n",
        "b = np.ones(8) / np.sqrt(8)"
      ]
    },
    {
      "cell_type": "markdown",
      "metadata": {
        "id": "VyJO1yELjURP"
      },
      "source": [
        "## Initialize Variational Circuit\n",
        "##### Variational circuit mapping the ground state |0> to the ansatz state |x>."
      ]
    },
    {
      "cell_type": "code",
      "execution_count": 4,
      "metadata": {
        "id": "ZEUf_TR8jrqm"
      },
      "outputs": [],
      "source": [
        "def variational_block(weights):\n",
        "    variational_ansatz = Circuit(n_qubits)\n",
        "    for idx in range(n_qubits):\n",
        "        variational_ansatz.add(gates.H(idx))\n",
        "    for idx, element in enumerate(weights):\n",
        "        variational_ansatz.add(gates.RY(idx,element))\n",
        "    return variational_ansatz"
      ]
    },
    {
      "cell_type": "markdown",
      "metadata": {
        "id": "OWPkDyGynHjY"
      },
      "source": [
        "## Building Custom Decoder\n",
        "##### The parameters should be optimized in order to maximize the overlap between the quantum states $|\\Psi\\rangle$ and $|b\\rangle$\n",
        "\n",
        "$$\n",
        "C_G = 1 - |\\langle b | \\Psi \\rangle|^2\n",
        "$$\n",
        "\n",
        "##### Using the VariationalQuantumLinearSolver class from the QiboML library we are able to generate our desired cost from the output of our variational circuit."
      ]
    },
    {
      "cell_type": "code",
      "execution_count": 5,
      "metadata": {
        "colab": {
          "base_uri": "https://localhost:8080/",
          "height": 139
        },
        "id": "6S7xA3nWdwDX",
        "outputId": "3488ef78-9d0c-4d94-aa53-ccdeac757dec"
      },
      "outputs": [],
      "source": [
        "decoder = VariationalQuantumLinearSolver(n_qubits, target_state=b, A = A_num)"
      ]
    },
    {
      "cell_type": "markdown",
      "metadata": {
        "id": "hq5uZSabuIQe"
      },
      "source": [
        "## Build Model\n",
        "##### Use QiboML's QuantumModel class to build the machine learning model."
      ]
    },
    {
      "cell_type": "code",
      "execution_count": 6,
      "metadata": {
        "colab": {
          "base_uri": "https://localhost:8080/",
          "height": 207
        },
        "id": "1pyXpQfgujjo",
        "outputId": "26a05772-cfd2-49c2-8eea-1bf1ec14b61b"
      },
      "outputs": [],
      "source": [
        "# Prepare the test circuit and decoder\n",
        "circuit = variational_block(weights)\n",
        "\n",
        "# Build Model\n",
        "model = QuantumModel(\n",
        "    decoding=decoder,\n",
        "    circuit_structure=circuit)"
      ]
    },
    {
      "cell_type": "markdown",
      "metadata": {
        "id": "niI8haZAvnl8"
      },
      "source": [
        "## Train Circuit\n",
        "##### Use the ADAM optimizer to perform gradient descent on loss landscape and optimize circuit parameters."
      ]
    },
    {
      "cell_type": "code",
      "execution_count": 7,
      "metadata": {
        "colab": {
          "base_uri": "https://localhost:8080/",
          "height": 207
        },
        "id": "UjzuhSmdvmoC",
        "outputId": "390f0d50-b27d-4367-b1bf-dfb4d969cde4"
      },
      "outputs": [
        {
          "name": "stdout",
          "output_type": "stream",
          "text": [
            "Iteration 0: Cost = 0.027048\n",
            "Iteration 20: Cost = 0.000190\n",
            "Iteration 40: Cost = 0.000196\n",
            "Iteration 60: Cost = 0.000003\n",
            "Iteration 80: Cost = 0.000004\n",
            "Iteration 100: Cost = 0.000001\n",
            "Iteration 120: Cost = 0.000000\n",
            "Iteration 140: Cost = 0.000000\n",
            "Iteration 160: Cost = 0.000000\n",
            "Iteration 180: Cost = 0.000000\n",
            "Iteration 200: Cost = 0.000000\n",
            "Iteration 220: Cost = 0.000000\n",
            "Iteration 240: Cost = 0.000000\n",
            "Iteration 260: Cost = 0.000000\n",
            "Iteration 280: Cost = 0.000000\n"
          ]
        }
      ],
      "source": [
        "optimizer = optim.Adam(model.parameters(), lr=0.05)\n",
        "\n",
        "# Optimize\n",
        "for iteration in range(300):\n",
        "    optimizer.zero_grad()\n",
        "    cost = model()\n",
        "    cost.backward()\n",
        "    optimizer.step()\n",
        "\n",
        "    if iteration % 20 == 0:\n",
        "        print(f\"Iteration {iteration}: Cost = {cost.item():.6f}\")"
      ]
    },
    {
      "cell_type": "markdown",
      "metadata": {
        "id": "HAwS_d1gdipC"
      },
      "source": [
        "## Final Parameters and Results"
      ]
    },
    {
      "cell_type": "code",
      "execution_count": 8,
      "metadata": {
        "colab": {
          "base_uri": "https://localhost:8080/",
          "height": 207
        },
        "id": "9b9n5OESdiNL",
        "outputId": "9d4eb3d7-28d2-43ce-f58c-93a2db7ad951"
      },
      "outputs": [
        {
          "name": "stdout",
          "output_type": "stream",
          "text": [
            "Optimized theta values:  [-5.42217344e-09  3.30297394e-01 -8.53152139e-09]\n",
            "Final state vector (as amplitudes):\n",
            "[0.29061909+0.j 0.29061909+0.j 0.40686674+0.j 0.40686674+0.j\n",
            " 0.29061909+0.j 0.29061909+0.j 0.40686674+0.j 0.40686674+0.j]\n"
          ]
        }
      ],
      "source": [
        "optimized_params = model.circuit_parameters.detach().cpu().numpy()\n",
        "print(\"Optimized theta values: \", optimized_params)\n",
        "param_circuit = variational_block(optimized_params)\n",
        "result = param_circuit.execute()\n",
        "final_state = result.state().detach().numpy()\n",
        "print(\"Final state vector (as amplitudes):\")\n",
        "print(final_state)"
      ]
    },
    {
      "cell_type": "markdown",
      "metadata": {
        "id": "VtLce5l-d0WX"
      },
      "source": [
        "## Comparison with Classical Solution"
      ]
    },
    {
      "cell_type": "code",
      "execution_count": 9,
      "metadata": {
        "colab": {
          "base_uri": "https://localhost:8080/",
          "height": 207
        },
        "id": "uLnljJYZd3kW",
        "outputId": "0e229163-e32d-4bd4-ccfe-2dbb16063dab"
      },
      "outputs": [
        {
          "data": {
            "image/png": "[encoded data removed]",
            "text/plain": [
              "<Figure size 700x400 with 2 Axes>"
            ]
          },
          "metadata": {},
          "output_type": "display_data"
        }
      ],
      "source": [
        "q_probs = np.abs(final_state)**2\n",
        "\n",
        "A_inv = np.linalg.inv(A_num)\n",
        "x = np.dot(A_inv, b)\n",
        "\n",
        "c_probs = (x / np.linalg.norm(x)) ** 2\n",
        "\n",
        "fig, (ax1, ax2) = plt.subplots(1, 2, figsize=(7, 4), sharey=True)\n",
        "\n",
        "ax1.bar(np.arange(0, 2 ** n_qubits), c_probs, color=\"blue\")\n",
        "ax1.set_xlim(-0.5, 2 ** n_qubits - 0.5)\n",
        "ax1.set_xlabel(\"Vector space basis\")\n",
        "ax1.set_title(\"Classical probabilities\")\n",
        "\n",
        "ax2.bar(np.arange(0, 2 ** n_qubits), q_probs, color=\"green\")\n",
        "ax2.set_xlim(-0.5, 2 ** n_qubits - 0.5)\n",
        "ax2.set_xlabel(\"Hilbert space basis\")\n",
        "ax2.set_title(\"Quantum probabilities\")\n",
        "\n",
        "plt.show()"
      ]
    }
  ],
  "metadata": {
    "colab": {
      "provenance": []
    },
    "kernelspec": {
      "display_name": "vqls-env",
      "language": "python",
      "name": "python3"
    },
    "language_info": {
      "codemirror_mode": {
        "name": "ipython",
        "version": 3
      },
      "file_extension": ".py",
      "mimetype": "text/x-python",
      "name": "python",
      "nbconvert_exporter": "python",
      "pygments_lexer": "ipython3",
      "version": "3.11.13"
    }
  },
  "nbformat": 4,
  "nbformat_minor": 0
}
