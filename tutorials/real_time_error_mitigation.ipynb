{
 "cells": [
  {
   "cell_type": "markdown",
   "id": "3051b4b1-b3d3-43dd-97c9-0b7e0d085f60",
   "metadata": {},
   "source": [
    "# Real time error mitigation in variational algorithms\n",
    "\n",
    "In this tutorial we setup the training of a variational quantum eigensolver in a noisy environment. To deal with noise, we also apply a real-time error mitigation strategy with the intention of mitigating predictions and gradients during the training."
   ]
  },
  {
   "cell_type": "code",
   "execution_count": 19,
   "id": "57b956b9-e05e-4938-9c5d-775ed5f57cc9",
   "metadata": {},
   "outputs": [
    {
     "name": "stderr",
     "output_type": "stream",
     "text": [
      "[Qibo 0.2.20|INFO|2025-07-04 16:04:21]: Using numpy backend on /CPU:0\n"
     ]
    }
   ],
   "source": [
    "# We will use the pytorch interface\n",
    "import torch\n",
    "import numpy as np\n",
    "import matplotlib.pyplot as plt\n",
    "\n",
    "# Importing useful Qibo's modules\n",
    "from qibo.noise import NoiseModel, PauliError\n",
    "from qibo import hamiltonians, set_backend, hamiltonians\n",
    "from qibo.backends import NumpyBackend\n",
    "\n",
    "# And Qiboml's ones\n",
    "import qiboml.interfaces.pytorch as pt\n",
    "from qiboml.models.ansatze import HardwareEfficient\n",
    "from qiboml.models.decoding import Expectation\n",
    "\n",
    "set_backend(\"numpy\")"
   ]
  },
  {
   "cell_type": "markdown",
   "id": "9df4415b-33d0-4a16-a2a5-f2ebf87d582d",
   "metadata": {},
   "source": [
    "### Local Pauli noise model\n",
    "\n",
    "First of all, we want to simulate a noisy environment. We are going to apply here a simple noise model to the simulation, which is known as _local Pauli noise channel_. In practice, we are going to randomly add Pauli operators ($X, Y, Z$) to each of our qubits everytime a gate is applied to our system. The core idea is that applying, those random parameters, we are randomly perturbating the evolution. For example, applying an $X$ gate we are simulating a random bit-flip in the state. Applying a $Z$, instead, we are randomly applying a phase flip. The $Y$, finally, will act as a combination of bit-flip and phase-flip. Overall, the impact of these perturbations will be to move the state of the system to be closer to the maximally [mixed state](https://en.wikipedia.org/wiki/Quantum_state#Mixed_states). We are going to use the Qibo formalism to construct and apply a noise model to our quantum circuit and we will tune the probability of applying these random Pauli operators as shown in the following function."
   ]
  },
  {
   "cell_type": "code",
   "execution_count": 20,
   "id": "dbb87897-37cb-4e88-a3e4-722b4bdbde55",
   "metadata": {},
   "outputs": [],
   "source": [
    "def build_noise_model(nqubits: int, local_pauli_noise_prob: float):\n",
    "    \"\"\"\n",
    "    Construct a local Pauli noise channel.\n",
    "\n",
    "    Args:\n",
    "        nqubits (int): number of qubits of the circuit that will be target of this noise model.\n",
    "        local_pauli_noise_prob (float): probability of applying the pauli channels.\n",
    "\n",
    "    Returns:\n",
    "        A Qibo `NoiseModel`\n",
    "    \"\"\"\n",
    "    noise_model = NoiseModel()\n",
    "    for q in range(nqubits):\n",
    "        noise_model.add(\n",
    "            PauliError(\n",
    "                [\n",
    "                    (\"X\", local_pauli_noise_prob),\n",
    "                    (\"Y\", local_pauli_noise_prob),\n",
    "                    (\"Z\", local_pauli_noise_prob),\n",
    "                ]\n",
    "            ),\n",
    "            qubits=q,\n",
    "        )\n",
    "    return noise_model"
   ]
  },
  {
   "cell_type": "markdown",
   "id": "cc81a73d-fce1-477a-b502-818ede54b956",
   "metadata": {},
   "source": [
    "Once the noise model is structured, we can start to build our quantum circuit. If you are not familiar with the concept of VQE, we recommend reading [this tutorial](https://github.com/qiboteam/qiboml/blob/main/tutorials/vqe.ipynb).\n",
    "\n",
    "In this exercise, we will prepare the ground state of a non interacting Pauli Z Hamiltonian:\n",
    "$$ H = - \\sum_{i=1}^{N} Z_i.$$\n",
    "\n",
    "As parametric quantum circuit, we decide to use an [Hardware Efficient Ansatz](https://www.nature.com/articles/nature23879)."
   ]
  },
  {
   "cell_type": "code",
   "execution_count": 59,
   "id": "4e4776e1-b170-47ba-9466-4e0512bc2b78",
   "metadata": {},
   "outputs": [],
   "source": [
    "# Define the target Hamiltonian and the VQE ansatz\n",
    "nqubits = 3\n",
    "circuit = HardwareEfficient(nqubits, nlayers=3, density_matrix=True)"
   ]
  },
  {
   "cell_type": "markdown",
   "id": "a1331a83-78be-4fad-8371-dcd6e80ac95a",
   "metadata": {},
   "source": [
    "Now we build the noise model using the function presented above."
   ]
  },
  {
   "cell_type": "code",
   "execution_count": 60,
   "id": "0be7fbd2-1229-460f-bea6-701a5e22291a",
   "metadata": {},
   "outputs": [],
   "source": [
    "noise_model = build_noise_model(nqubits=nqubits, local_pauli_noise_prob=0.008)"
   ]
  },
  {
   "cell_type": "markdown",
   "id": "c14bc5db-3481-46f9-9939-d2fb6d5db87f",
   "metadata": {},
   "source": [
    "In Qiboml, we can pass the noise model as an argument of any decoder, and this will automatically execute our simulations with noise. \n",
    "\n",
    "---\n",
    "\n",
    "> **Note**: the Qibo's default noise simulation is perfomed adopting the density matrix formalism, and this will inevitably slow down the circuit's execution.\n",
    "\n",
    "---"
   ]
  },
  {
   "cell_type": "markdown",
   "id": "6f9ecc29-0da5-48a5-94aa-f91939040be6",
   "metadata": {},
   "source": [
    "### Training a VQE with noise\n",
    "\n",
    "Now we can perform the training of our VQE in a noisy environment."
   ]
  },
  {
   "cell_type": "code",
   "execution_count": 61,
   "id": "20711578-67cd-414e-bda8-86de02a6516a",
   "metadata": {},
   "outputs": [],
   "source": [
    "# Defining an Expectation decoding with noise model\n",
    "noisy_decoding = Expectation(\n",
    "    nqubits=nqubits,\n",
    "    noise_model=noise_model,\n",
    "    nshots=500,\n",
    "    density_matrix=True,\n",
    "    backend=NumpyBackend(),\n",
    ")\n",
    "\n",
    "# Completing the definition of the model\n",
    "noisy_model = pt.QuantumModel(circuit_structure=[circuit,], decoding=noisy_decoding)"
   ]
  },
  {
   "cell_type": "code",
   "execution_count": 62,
   "id": "dc5453ad-38b6-4fe0-8027-fa9b6f4bf846",
   "metadata": {},
   "outputs": [
    {
     "name": "stdout",
     "output_type": "stream",
     "text": [
      "Iteration 0 |  Cost: 0.984000027179718\n",
      "Iteration 5 |  Cost: -0.36000001430511475\n",
      "Iteration 10 |  Cost: -1.0199999809265137\n",
      "Iteration 15 |  Cost: -1.4279999732971191\n",
      "Iteration 20 |  Cost: -1.5440000295639038\n",
      "Iteration 25 |  Cost: -1.6319999694824219\n",
      "Iteration 30 |  Cost: -1.600000023841858\n",
      "Iteration 35 |  Cost: -1.715999960899353\n",
      "Iteration 40 |  Cost: -1.8480000495910645\n",
      "Iteration 45 |  Cost: -1.6799999475479126\n",
      "Iteration 50 |  Cost: -1.8240000009536743\n",
      "Iteration 55 |  Cost: -1.7719999551773071\n",
      "Iteration 60 |  Cost: -1.7640000581741333\n",
      "Iteration 65 |  Cost: -1.7960000038146973\n",
      "Iteration 70 |  Cost: -1.7319999933242798\n",
      "Iteration 75 |  Cost: -1.8040000200271606\n",
      "Iteration 80 |  Cost: -1.8799999952316284\n",
      "Iteration 85 |  Cost: -1.9160000085830688\n",
      "Iteration 90 |  Cost: -1.7920000553131104\n",
      "Iteration 95 |  Cost: -1.812000036239624\n"
     ]
    }
   ],
   "source": [
    "# This will take some time\n",
    "optimizer = torch.optim.Adam(noisy_model.parameters(), lr=0.1)\n",
    "noisy_losses = []\n",
    "for iteration in range(100):\n",
    "    optimizer.zero_grad()\n",
    "    cost = noisy_model()\n",
    "    noisy_losses.append(cost.item())\n",
    "    cost.backward()\n",
    "    optimizer.step()\n",
    "    if iteration % 5 == 0:\n",
    "        print(f\"Iteration {iteration} |  Cost: {cost.item()}\")"
   ]
  },
  {
   "cell_type": "code",
   "execution_count": 63,
   "id": "1457b941-214b-4bd9-b025-e88e8fd5bc92",
   "metadata": {},
   "outputs": [],
   "source": [
    "def plot_loss(noisy_loss, mit_loss=None):\n",
    "    \"\"\"Plot loss functions.\"\"\"\n",
    "    plt.figure(figsize=(5, 5 * 6/8))\n",
    "    plt.hlines(\n",
    "        -nqubits, \n",
    "        0, \n",
    "        len(noisy_loss), \n",
    "        label=\"Target energy\", \n",
    "        color=\"black\"\n",
    "    )\n",
    "    plt.plot(\n",
    "        noisy_loss, \n",
    "        lw=2, \n",
    "        label=\"With noise\", \n",
    "        color=\"red\"\n",
    "    )\n",
    "    plt.xlabel(\"Iterations\")\n",
    "    plt.ylabel(\"Energy\")\n",
    "    if mit_loss is not None:\n",
    "        plt.plot(\n",
    "            mit_loss, \n",
    "            lw=2, \n",
    "            label=\"With noise and mitigation\", \n",
    "            color=\"blue\"\n",
    "        )\n",
    "        plt.legend()"
   ]
  },
  {
   "cell_type": "code",
   "execution_count": 64,
   "id": "172ed96c-145f-40b6-b511-9b5d0061906a",
   "metadata": {},
   "outputs": [
    {
     "data": {
      "image/png": "[encoded data removed]",
      "text/plain": [
       "<Figure size 500x375 with 1 Axes>"
      ]
     },
     "metadata": {},
     "output_type": "display_data"
    }
   ],
   "source": [
    "plot_loss(noisy_losses)"
   ]
  },
  {
   "cell_type": "markdown",
   "id": "567a4df5-3ea0-4793-8978-93cbd374459f",
   "metadata": {},
   "source": [
    "### Data driven error mitigation\n",
    "\n",
    "The next step is to perform a real-time error mitigation. The strategy we follow here is the one presented in [this article](https://arxiv.org/abs/2311.05680).\n",
    "In a few words, we adopt a _data-driven error mitigation_ technique, which consists in the following:\n",
    "\n",
    "1. we consider a target circuit $\\mathcal{C}^0$, which is typically difficult to simulate (in a real case scenario, here we are using four qubits as dummy example);\n",
    "2. we construct a training set of circuits $\\{\\mathcal{C}^i_{\\rm cdr} \\}$ where a big portion of gates of the original circuits are replaced with Clifford gates. When a circuit is composed of a big quantity of Clifford gates is usually considered easier to simulate (See. [this paper](https://arxiv.org/abs/quant-ph/0406196) for references);\n",
    "3. thanks to point 2., we can now compute both noisy and exact expectation values for all the circuits of the training set. These will be data that we can plot in a _noisy versus exact_ plane. For the exact values we use simulators (quasi-clifford simulators, hybrid stabilizers-MPO, etc), while the noisy values can be extracted from a noisy simulator or a real quantum device;\n",
    "4. finally, we take all our data and we fit them with classical linear regression. We will have then a mitigation map $\\ell$ (the equation of the line in the following figure), which can be used to mitigate any new expectation value!\n",
    "\n",
    "<img src=\"./figures/cdr_scheme.png\" width=\"600\" height=\"500\" alt=\"My Image\">\n",
    "\n",
    "### Real-time error mitigation\n",
    "\n",
    "Here, we do quantum machine learning, and we therefore need to execute hundreds of circuits of the same size and type. Usually, in fact, we repeat many times the execution of the same ansatz to compute predictions, calculate gradients, or just repeat the procedure after the trainable parameters of our circuit have been updated by an optimizer.\n",
    "\n",
    "It is clear, so, that it may not be necessary to repeat the mitigation procedure as many times as circuit executions! Better, it can happen that, for a considerable amount of time, the noise affecting our device remains stable. In those cases, we can compute the mitigation map just a few times and re-use it to mitigate dozens of expectation values.\n",
    "\n",
    "#### How to know when I need to recompute the mitigation map?\n",
    "\n",
    "To facilitate this task, Qiboml offers a `Mitigator` class, which takes care of the real-time mitigation procedure. Everytime a `Mitigator` object interacts with a Qiboml model, it constructs a reference target circuit which will be used to check whether a mitigation map is reliable or not. This reference circuit is purely Clifford, and it is built such that it is [error sensitive](https://www.nature.com/articles/s41534-023-00707-7) and easily simulable. Everytime we decide we want to check if the mitigation map is reliable, the reference circuit is executed on our noisy backend (simulation or hardware), and the final state is used to compute the target expectation value $\\mathcal{E}_{\\rm noisy}$. At this point, the mitigated value is computed using the currently cached mitigation map\n",
    "$$ \\mathcal{E}_{\\rm mitigated} = \\ell (\\mathcal{E}_{\\rm noisy}). $$\n",
    "This mitigated value if finally used to evaluate a metric, which is simply \n",
    "$$ D = | \\mathcal{E}_{\\rm exact} - \\mathcal{E}_{\\rm mitigated} |. $$\n",
    "The main idea, at this point, is that if $D$ exceeds some arbitrary chosen threshold value $\\delta$, then the noise map is recomputed by executing one more time the whole data-driven error mitigation procedure.\n",
    "\n",
    "#### Real-time error mitigation in Qiboml\n",
    "\n",
    "The idea implemented here is that we can tune the real-time mitigation with two parameters:\n",
    "1. we can set a `threshold` value $\\delta$, which will be used as explained above;\n",
    "2. we can set a `min_iterations` parameter, which defines the minimum numbers of calls to the decoder before we actually perform the checking procedure using our reference circuit.\n",
    "\n",
    "In practice, our `Expectation` decoding accepts as argument a `mitigation_config` dictionary, where one can decide which type of strategy to implement. Let us describe briefly the possible way this configuration can be customized. In the following cell we define an example of configuration."
   ]
  },
  {
   "cell_type": "code",
   "execution_count": 65,
   "id": "4934efde-e67d-4fe8-be70-4c9b183f9858",
   "metadata": {},
   "outputs": [],
   "source": [
    "mitigation_config = {\n",
    "    \"threshold\": 0.1,\n",
    "    \"min_iterations\": 500,\n",
    "    \"method\": \"CDR\",\n",
    "    \"method_kwargs\": {\"n_training_samples\": 100, \"nshots\": 10000},\n",
    "}"
   ]
  },
  {
   "cell_type": "markdown",
   "id": "fef7edce-8e59-4d2b-9175-d32db345e740",
   "metadata": {},
   "source": [
    "### Repeating the training with error mitigation"
   ]
  },
  {
   "cell_type": "code",
   "execution_count": 66,
   "id": "9419a4ea-8f92-4e52-a026-6877e6402275",
   "metadata": {},
   "outputs": [],
   "source": [
    "circuit = HardwareEfficient(nqubits, nlayers=3, density_matrix=True)\n",
    "\n",
    "# Defining an Expectation decoding with noise model\n",
    "# but also with error mitigation\n",
    "mit_decoding = Expectation(\n",
    "    nqubits=nqubits,\n",
    "    noise_model=noise_model,\n",
    "    nshots=500,\n",
    "    density_matrix=True,\n",
    "    backend=NumpyBackend(),\n",
    "    mitigation_config=mitigation_config,\n",
    ")\n",
    "\n",
    "# Completing the definition of the model\n",
    "mit_model = pt.QuantumModel(circuit_structure=[circuit,], decoding=mit_decoding)"
   ]
  },
  {
   "cell_type": "code",
   "execution_count": 67,
   "id": "ef80ff60-9f88-48bb-aaaa-f0f088d138da",
   "metadata": {},
   "outputs": [
    {
     "name": "stderr",
     "output_type": "stream",
     "text": [
      "[Qibo 0.2.20|INFO|2025-07-04 16:25:02]: Obtained noise map params: [ 1.79207917 -0.2017336 ].\n"
     ]
    },
    {
     "name": "stdout",
     "output_type": "stream",
     "text": [
      "Iteration 0 |  Cost: 0.7659891247749329\n",
      "Iteration 10 |  Cost: -1.4561890363693237\n"
     ]
    },
    {
     "name": "stderr",
     "output_type": "stream",
     "text": [
      "[Qibo 0.2.20|INFO|2025-07-04 16:25:24]: Checking map since max iterations reached.\n",
      "[Qibo 0.2.20|INFO|2025-07-04 16:25:28]: Obtained noise map params: [1.89325945 0.21027506].\n"
     ]
    },
    {
     "name": "stdout",
     "output_type": "stream",
     "text": [
      "Iteration 20 |  Cost: -2.9552547931671143\n"
     ]
    },
    {
     "name": "stderr",
     "output_type": "stream",
     "text": [
      "[Qibo 0.2.20|INFO|2025-07-04 16:25:50]: Checking map since max iterations reached.\n",
      "[Qibo 0.2.20|INFO|2025-07-04 16:25:55]: Obtained noise map params: [1.82340815 0.3533521 ].\n"
     ]
    },
    {
     "name": "stdout",
     "output_type": "stream",
     "text": [
      "Iteration 30 |  Cost: -3.060067892074585\n"
     ]
    },
    {
     "name": "stderr",
     "output_type": "stream",
     "text": [
      "[Qibo 0.2.20|INFO|2025-07-04 16:26:17]: Checking map since max iterations reached.\n",
      "[Qibo 0.2.20|INFO|2025-07-04 16:26:21]: Obtained noise map params: [ 1.28907343 -0.24243871].\n"
     ]
    },
    {
     "name": "stdout",
     "output_type": "stream",
     "text": [
      "Iteration 40 |  Cost: -2.9360761642456055\n",
      "Iteration 50 |  Cost: -2.475113868713379\n"
     ]
    },
    {
     "name": "stderr",
     "output_type": "stream",
     "text": [
      "[Qibo 0.2.20|INFO|2025-07-04 16:26:43]: Checking map since max iterations reached.\n",
      "[Qibo 0.2.20|INFO|2025-07-04 16:26:48]: Obtained noise map params: [1.52334206 0.0155354 ].\n"
     ]
    },
    {
     "name": "stdout",
     "output_type": "stream",
     "text": [
      "Iteration 60 |  Cost: -2.653359889984131\n"
     ]
    },
    {
     "name": "stderr",
     "output_type": "stream",
     "text": [
      "[Qibo 0.2.20|INFO|2025-07-04 16:27:09]: Checking map since max iterations reached.\n"
     ]
    },
    {
     "name": "stdout",
     "output_type": "stream",
     "text": [
      "Iteration 70 |  Cost: -2.6838266849517822\n",
      "Iteration 80 |  Cost: -2.93365478515625\n"
     ]
    },
    {
     "name": "stderr",
     "output_type": "stream",
     "text": [
      "[Qibo 0.2.20|INFO|2025-07-04 16:27:31]: Checking map since max iterations reached.\n",
      "[Qibo 0.2.20|INFO|2025-07-04 16:27:36]: Obtained noise map params: [1.94160983 0.55416519].\n"
     ]
    },
    {
     "name": "stdout",
     "output_type": "stream",
     "text": [
      "Iteration 90 |  Cost: -3.127126932144165\n"
     ]
    },
    {
     "name": "stderr",
     "output_type": "stream",
     "text": [
      "[Qibo 0.2.20|INFO|2025-07-04 16:27:58]: Checking map since max iterations reached.\n",
      "[Qibo 0.2.20|INFO|2025-07-04 16:28:02]: Obtained noise map params: [1.9059589  0.47177321].\n"
     ]
    }
   ],
   "source": [
    "# This will take some time\n",
    "optimizer = torch.optim.Adam(mit_model.parameters(), lr=0.1)\n",
    "mit_losses = []\n",
    "for iteration in range(100):\n",
    "    optimizer.zero_grad()\n",
    "    cost = mit_model()\n",
    "    mit_losses.append(cost.item())\n",
    "    cost.backward()\n",
    "    optimizer.step()\n",
    "    if iteration % 10 == 0:\n",
    "        print(f\"Iteration {iteration} |  Cost: {cost.item()}\")"
   ]
  },
  {
   "cell_type": "code",
   "execution_count": 68,
   "id": "844b8299-5dca-472d-8f3d-d3c6f2fe2bbd",
   "metadata": {},
   "outputs": [
    {
     "data": {
      "image/png": "[encoded data removed]",
      "text/plain": [
       "<Figure size 500x375 with 1 Axes>"
      ]
     },
     "metadata": {},
     "output_type": "display_data"
    }
   ],
   "source": [
    "plot_loss(noisy_losses, mit_losses)"
   ]
  },
  {
   "cell_type": "markdown",
   "id": "0a2b676c-15f4-4e49-9184-a4ea7e6d6a10",
   "metadata": {},
   "source": [
    "Paying a small overhead, we manage to reach a better approximation!"
   ]
  },
  {
   "cell_type": "code",
   "execution_count": null,
   "id": "f5638ddb-3e24-4508-abd0-e69df8db9bd1",
   "metadata": {},
   "outputs": [],
   "source": []
  }
 ],
 "metadata": {
  "kernelspec": {
   "display_name": "Python 3 (ipykernel)",
   "language": "python",
   "name": "python3"
  },
  "language_info": {
   "codemirror_mode": {
    "name": "ipython",
    "version": 3
   },
   "file_extension": ".py",
   "mimetype": "text/x-python",
   "name": "python",
   "nbconvert_exporter": "python",
   "pygments_lexer": "ipython3",
   "version": "3.11.11"
  }
 },
 "nbformat": 4,
 "nbformat_minor": 5
}
