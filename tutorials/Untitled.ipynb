{
 "cells": [
  {
   "cell_type": "code",
   "execution_count": 10,
   "id": "a77d9b73-ea84-4684-ab0a-a9aa273680f5",
   "metadata": {},
   "outputs": [],
   "source": [
    "import numpy as np\n",
    "import qiboml.models.encoding as ed\n",
    "from qibo import gates\n",
    "\n",
    "\n",
    "def test_binary_encoding_layer(backend):\n",
    "    nqubits = 10\n",
    "    qubits = np.random.choice(range(nqubits), size=(6,), replace=False)\n",
    "    layer = ed.BinaryEncoding(nqubits, qubits=qubits)\n",
    "    data = backend.cast(np.random.choice([0, 1], size=(len(qubits),)))\n",
    "    c = layer(data)\n",
    "    for bit, gate in zip(data, c.queue):\n",
    "        assert bit == gate.init_kwargs[\"theta\"] / np.pi\n",
    "    # test shape error\n",
    "    with pytest.raises(RuntimeError):\n",
    "        layer(backend.cast(np.random.choice([0, 1], size=(len(qubits) - 1,))))\n",
    "\n",
    "\n",
    "def test_phase_encoding_layer(backend):\n",
    "    nqubits = 10\n",
    "    qubits = np.random.choice(range(nqubits), size=(6,), replace=False)\n",
    "    layer = ed.PhaseEncoding(nqubits, qubits=qubits, encoding_gate=gates.RX)\n",
    "    data = backend.cast(np.random.randn(1, len(qubits)))\n",
    "    c = layer(data)\n",
    "    angles = [gate.init_kwargs[\"theta\"] for gate in c.queue]\n",
    "    backend.assert_allclose(data.ravel(), angles)"
   ]
  },
  {
   "cell_type": "code",
   "execution_count": 14,
   "id": "157d33aa-6ac2-49dc-af4b-8aeddfa16fee",
   "metadata": {},
   "outputs": [],
   "source": [
    "nqubits = 10\n",
    "qubits = np.random.choice(range(nqubits), size=(6,), replace=False)\n",
    "layer = ed.PhaseEncoding(nqubits, qubits=qubits, encoding_gate=gates.RX)\n",
    "data = np.random.randn(1, len(qubits))\n",
    "c = layer(data)\n",
    "angles = [gate.init_kwargs[\"theta\"] for gate in c.queue]"
   ]
  },
  {
   "cell_type": "code",
   "execution_count": 15,
   "id": "9884bf5d-d36e-496d-85c4-6d9e32e9fc69",
   "metadata": {},
   "outputs": [
    {
     "name": "stdout",
     "output_type": "stream",
     "text": [
      "0: ─RX─\n",
      "1: ────\n",
      "2: ─RX─\n",
      "3: ────\n",
      "4: ─RX─\n",
      "5: ────\n",
      "6: ─RX─\n",
      "7: ─RX─\n",
      "8: ─RX─\n",
      "9: ────\n"
     ]
    }
   ],
   "source": [
    "c = layer(data)\n",
    "c.draw()"
   ]
  },
  {
   "cell_type": "code",
   "execution_count": 16,
   "id": "4cbe6c1f-cd7b-4198-8801-41ca3740d027",
   "metadata": {},
   "outputs": [
    {
     "data": {
      "text/plain": [
       "array([-0.72593583, -1.75419683,  0.10737405,  0.55096878,  0.15298695,\n",
       "       -0.21203848])"
      ]
     },
     "execution_count": 16,
     "metadata": {},
     "output_type": "execute_result"
    }
   ],
   "source": [
    "data.ravel()"
   ]
  },
  {
   "cell_type": "code",
   "execution_count": 17,
   "id": "0b53fb97-ba26-4634-83dd-47eb0b662c5a",
   "metadata": {},
   "outputs": [
    {
     "data": {
      "text/plain": [
       "[np.float64(-0.7259358332475663),\n",
       " np.float64(-1.7541968278428008),\n",
       " np.float64(0.10737405294245106),\n",
       " np.float64(0.5509687788874992),\n",
       " np.float64(0.15298694988680264),\n",
       " np.float64(-0.21203848140427345)]"
      ]
     },
     "execution_count": 17,
     "metadata": {},
     "output_type": "execute_result"
    }
   ],
   "source": [
    "angles"
   ]
  },
  {
   "cell_type": "code",
   "execution_count": 18,
   "id": "47de096f-f3f9-445c-9c54-3c5b60852e4f",
   "metadata": {},
   "outputs": [],
   "source": [
    "g = c.queue[0]"
   ]
  },
  {
   "cell_type": "code",
   "execution_count": 19,
   "id": "30f93fab-1268-4234-8c10-f7c4f335dc8c",
   "metadata": {},
   "outputs": [
    {
     "data": {
      "text/plain": [
       "(np.float64(-0.7259358332475663),)"
      ]
     },
     "execution_count": 19,
     "metadata": {},
     "output_type": "execute_result"
    }
   ],
   "source": [
    "g.parameters"
   ]
  },
  {
   "cell_type": "code",
   "execution_count": null,
   "id": "3b6ccc60-8d3b-4029-9ce0-60aa8591c963",
   "metadata": {},
   "outputs": [],
   "source": []
  }
 ],
 "metadata": {
  "kernelspec": {
   "display_name": "Python 3 (ipykernel)",
   "language": "python",
   "name": "python3"
  },
  "language_info": {
   "codemirror_mode": {
    "name": "ipython",
    "version": 3
   },
   "file_extension": ".py",
   "mimetype": "text/x-python",
   "name": "python",
   "nbconvert_exporter": "python",
   "pygments_lexer": "ipython3",
   "version": "3.10.0"
  }
 },
 "nbformat": 4,
 "nbformat_minor": 5
}
