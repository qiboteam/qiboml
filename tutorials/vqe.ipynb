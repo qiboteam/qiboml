{
 "cells": [
  {
   "cell_type": "markdown",
   "id": "7814de46-21a1-469c-b3a5-9e7f1c1caaa7",
   "metadata": {},
   "source": [
    "# Variational Quantum Eigensolver\n",
    "\n",
    "A variational quantum eigensolver is a variational quantum algorithm where a parametrized quantum circuit is trained to prepare the ground state of a target Hamiltonian [See A. Peruzzo et al. - 2013](https://arxiv.org/abs/1304.3061).\n",
    "\n",
    "<img src=\"./figures/vqe.png\" width=\"800\" height=\"500\" alt=\"My Image\">\n",
    "\n",
    "As sketched above, the idea is that we get a state from a quantum circuit, and this state depends on the parameters of the circuit. Then we implement a machine learning routine to update the parameters of the circuit such that the expectation value of our target Hamiltonian on this state is minimized."
   ]
  },
  {
   "cell_type": "markdown",
   "id": "c56ba8fe-1b87-46b9-84ea-e5bf56e016f4",
   "metadata": {},
   "source": [
    "### Some imports"
   ]
  },
  {
   "cell_type": "code",
   "execution_count": null,
   "id": "530347f0-6842-4f70-a55f-b72c08f37150",
   "metadata": {},
   "outputs": [],
   "source": [
    "import numpy as np\n",
    "\n",
    "import torch.optim as optim\n",
    "\n",
    "from qibo import (\n",
    "    Circuit, \n",
    "    gates, \n",
    "    hamiltonians, \n",
    "    set_backend, \n",
    "    construct_backend,\n",
    ")\n",
    "\n",
    "from qiboml.models.decoding import Expectation\n",
    "from qiboml.interfaces.pytorch import QuantumModel"
   ]
  },
  {
   "cell_type": "markdown",
   "id": "f80a68fc-0767-4fd7-80f3-b4b18e2fc605",
   "metadata": {},
   "source": [
    "### The chosen model\n",
    "\n",
    "We choose a layered model, where a parametric structure composed of rotations and controlled rotations is repeated `nlayers` times."
   ]
  },
  {
   "cell_type": "code",
   "execution_count": 3,
   "id": "c5749a25-77ba-481e-96c7-c6e75055a92d",
   "metadata": {},
   "outputs": [],
   "source": [
    "# Setting number of qubits of the problem and number of layers.\n",
    "nqubits = 4\n",
    "nlayers = 3"
   ]
  },
  {
   "cell_type": "code",
   "execution_count": 4,
   "id": "82d6bbfd-a766-45da-820f-6fdb271f110d",
   "metadata": {},
   "outputs": [],
   "source": [
    "# Structure of the VQE ansatz\n",
    "def build_vqe_circuit(nqubits, nlayers):\n",
    "    \"\"\"Construct a layered, trainable ansatz.\"\"\"\n",
    "    c = Circuit(nqubits)\n",
    "    for _ in range(nlayers):\n",
    "        for q in range(nqubits):\n",
    "            c.add(gates.RY(q=q, theta=np.random.randn()))\n",
    "            c.add(gates.RZ(q=q, theta=np.random.randn()))\n",
    "        [c.add(gates.CRX(q0=q%nqubits, q1=(q+1)%nqubits, theta=np.random.randn())) for q in range(nqubits)]\n",
    "    return c"
   ]
  },
  {
   "cell_type": "markdown",
   "id": "d42dcc57-b235-4bca-968b-e4efee9c7b5e",
   "metadata": {},
   "source": [
    "### Choice of the target \n",
    "\n",
    "As target, we select a one-dimensional Heisenberg Hamiltonian with gap set to $\\Delta=0.5$."
   ]
  },
  {
   "cell_type": "code",
   "execution_count": 5,
   "id": "f807a1c8-b92f-48d0-99f5-1994954f4891",
   "metadata": {},
   "outputs": [
    {
     "name": "stderr",
     "output_type": "stream",
     "text": [
      "[Qibo 0.2.18|INFO|2025-05-19 18:24:38]: Using qiboml (pytorch) backend on cpu\n"
     ]
    }
   ],
   "source": [
    "# Define the target Hamiltonian\n",
    "set_backend(\"qiboml\", platform=\"pytorch\")\n",
    "hamiltonian = hamiltonians.XXZ(nqubits=nqubits, delta=0.5)"
   ]
  },
  {
   "cell_type": "markdown",
   "id": "cb491187-8009-4526-87ff-56380ea3c771",
   "metadata": {},
   "source": [
    "This choice has to be provided to our decoding layer. In fact, our loss function will be exactly the output of this decoding: the expectation value of the given observable (the target Hamiltonian) over the final state prepared by the quantum model."
   ]
  },
  {
   "cell_type": "code",
   "execution_count": 6,
   "id": "d5bd4e68-6a37-446a-af55-9b4d017325bd",
   "metadata": {},
   "outputs": [],
   "source": [
    "# Construct the decoding layer\n",
    "decoding = Expectation(\n",
    "    nqubits=nqubits,\n",
    "    observable=hamiltonian,\n",
    ")"
   ]
  },
  {
   "cell_type": "markdown",
   "id": "12c58056-612e-4db1-b671-656bb72202f4",
   "metadata": {},
   "source": [
    "### Building the whole model\n",
    "\n",
    "Our quantum model will present a circuit structure corresponding to our layered ansatz and an expectation value as decoding strategy."
   ]
  },
  {
   "cell_type": "code",
   "execution_count": 7,
   "id": "051c51c4-66a7-439e-ad74-4315a5e6e59e",
   "metadata": {},
   "outputs": [
    {
     "data": {
      "image/png": "[encoded data removed]",
      "text/plain": [
       "<Figure size 1620x240 with 1 Axes>"
      ]
     },
     "metadata": {},
     "output_type": "display_data"
    }
   ],
   "source": [
    "model = QuantumModel(\n",
    "    circuit_structure=build_vqe_circuit(nqubits=nqubits, nlayers=nlayers),\n",
    "    decoding=decoding,\n",
    ")\n",
    "\n",
    "_ = model.draw()"
   ]
  },
  {
   "cell_type": "markdown",
   "id": "5d876eeb-575f-42c8-83f1-cf715f2b5884",
   "metadata": {},
   "source": [
    "### Let's train!"
   ]
  },
  {
   "cell_type": "code",
   "execution_count": 8,
   "id": "473d1ba4-a186-43fa-ae64-9f97c35c543e",
   "metadata": {},
   "outputs": [
    {
     "name": "stdout",
     "output_type": "stream",
     "text": [
      "Exact ground state:  tensor(-6.7446, dtype=torch.float64)\n"
     ]
    }
   ],
   "source": [
    "print(\"Exact ground state: \", min(hamiltonian.eigenvalues()))"
   ]
  },
  {
   "cell_type": "code",
   "execution_count": 9,
   "id": "bf603c38-bb9a-4b10-8c7b-49879055714d",
   "metadata": {},
   "outputs": [
    {
     "name": "stdout",
     "output_type": "stream",
     "text": [
      "Iteration 0: Cost = -0.471007\n",
      "Iteration 20: Cost = -5.387961\n",
      "Iteration 40: Cost = -5.990623\n",
      "Iteration 60: Cost = -6.153267\n",
      "Iteration 80: Cost = -6.369555\n",
      "Iteration 100: Cost = -6.604546\n",
      "Iteration 120: Cost = -6.710510\n",
      "Iteration 140: Cost = -6.738690\n",
      "Iteration 160: Cost = -6.743156\n",
      "Iteration 180: Cost = -6.743962\n",
      "Iteration 200: Cost = -6.744113\n",
      "Iteration 220: Cost = -6.744190\n",
      "Iteration 240: Cost = -6.744234\n",
      "Iteration 260: Cost = -6.744262\n",
      "Iteration 280: Cost = -6.744281\n"
     ]
    }
   ],
   "source": [
    "optimizer = optim.Adam(model.parameters(), lr=0.05)\n",
    "\n",
    "for iteration in range(300):\n",
    "    optimizer.zero_grad()  \n",
    "    cost = model()  \n",
    "    cost.backward()  \n",
    "    optimizer.step()  \n",
    "\n",
    "    if iteration % 20 == 0:\n",
    "        print(f\"Iteration {iteration}: Cost = {cost.item():.6f}\")"
   ]
  },
  {
   "cell_type": "markdown",
   "id": "73916229-3460-4b63-9068-aa02a56c08a8",
   "metadata": {},
   "source": [
    "We got it 🥳 !"
   ]
  }
 ],
 "metadata": {
  "kernelspec": {
   "display_name": "Python 3 (ipykernel)",
   "language": "python",
   "name": "python3"
  },
  "language_info": {
   "codemirror_mode": {
    "name": "ipython",
    "version": 3
   },
   "file_extension": ".py",
   "mimetype": "text/x-python",
   "name": "python",
   "nbconvert_exporter": "python",
   "pygments_lexer": "ipython3",
   "version": "3.11.11"
  }
 },
 "nbformat": 4,
 "nbformat_minor": 5
}
