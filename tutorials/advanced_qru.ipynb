{
 "cells": [
  {
   "cell_type": "code",
   "execution_count": 1,
   "id": "d7897ca2-9edf-4b32-b436-9b0fabdcb7dc",
   "metadata": {},
   "outputs": [
    {
     "name": "stderr",
     "output_type": "stream",
     "text": [
      "2025-05-16 10:52:56.932989: E external/local_xla/xla/stream_executor/cuda/cuda_fft.cc:467] Unable to register cuFFT factory: Attempting to register factory for plugin cuFFT when one has already been registered\n",
      "WARNING: All log messages before absl::InitializeLog() is called are written to STDERR\n",
      "E0000 00:00:1747385576.952368   43518 cuda_dnn.cc:8579] Unable to register cuDNN factory: Attempting to register factory for plugin cuDNN when one has already been registered\n",
      "E0000 00:00:1747385576.958127   43518 cuda_blas.cc:1407] Unable to register cuBLAS factory: Attempting to register factory for plugin cuBLAS when one has already been registered\n",
      "W0000 00:00:1747385576.972702   43518 computation_placer.cc:177] computation placer already registered. Please check linkage and avoid linking the same target more than once.\n",
      "W0000 00:00:1747385576.972726   43518 computation_placer.cc:177] computation placer already registered. Please check linkage and avoid linking the same target more than once.\n",
      "W0000 00:00:1747385576.972729   43518 computation_placer.cc:177] computation placer already registered. Please check linkage and avoid linking the same target more than once.\n",
      "W0000 00:00:1747385576.972730   43518 computation_placer.cc:177] computation placer already registered. Please check linkage and avoid linking the same target more than once.\n"
     ]
    }
   ],
   "source": [
    "import torch\n",
    "import numpy as np\n",
    "import matplotlib.pyplot as plt\n",
    "\n",
    "import torch.optim as optim\n",
    "import torch.nn as nn\n",
    "\n",
    "from qibo import Circuit, gates, hamiltonians, set_backend, construct_backend\n",
    "\n",
    "from qiboml.models.encoding import PhaseEncoding\n",
    "from qiboml.models.decoding import Expectation\n",
    "from qiboml.interfaces.pytorch import QuantumModel\n",
    "from qiboml.operations.differentiation import PSR, Jax"
   ]
  },
  {
   "cell_type": "code",
   "execution_count": 3,
   "id": "2067b685-6481-4c77-8390-9c161a8de7f7",
   "metadata": {},
   "outputs": [],
   "source": [
    "class ScaledTanhEncoding(nn.Module):\n",
    "    \"\"\"Non-linear encoding layer using f(x) = (pi/2) * (tanh(a * x + b) + 1)\"\"\"\n",
    "    def _init_(self):\n",
    "        super()._init_()\n",
    "        self.a = nn.Parameter(torch.tensor(np.random.randn()))\n",
    "        self.b = nn.Parameter(torch.tensor(np.random.randn()))\n",
    "\n",
    "    def forward(self, x):\n",
    "        return (torch.pi / 2) * (torch.tanh(self.a * x + self.b) + 1)\n"
   ]
  },
  {
   "cell_type": "code",
   "execution_count": 7,
   "id": "5c7218b3-0f3f-4734-91bc-3be6907e5665",
   "metadata": {},
   "outputs": [
    {
     "name": "stderr",
     "output_type": "stream",
     "text": [
      "[Qibo 0.2.19|INFO|2025-05-16 10:54:41]: Using qiboml (pytorch) backend on cpu\n"
     ]
    },
    {
     "data": {
      "image/png": "[encoded data removed]",
      "text/plain": [
       "<Figure size 480x60 with 1 Axes>"
      ]
     },
     "metadata": {},
     "output_type": "display_data"
    }
   ],
   "source": [
    "set_backend(\"qiboml\", platform=\"pytorch\")\n",
    "\n",
    "nqubits = 1\n",
    "nlayers = 4\n",
    "\n",
    "gates_list = []\n",
    "for _ in range(nlayers):\n",
    "    gates_list.extend([gates.RY, gates.RZ])\n",
    "\n",
    "class LinEncoding(nn.Module):\n",
    "    \"\"\"Activation function which helps in giving more sensitivity around zero.\"\"\"\n",
    "    def __init__(self):\n",
    "        super(LinEncoding, self).__init__()\n",
    "        self.param1 = nn.Parameter(torch.tensor(np.random.randn()))\n",
    "        self.param2 = nn.Parameter(torch.tensor(np.random.randn()))\n",
    "    \n",
    "    def forward(self, x):\n",
    "        return self.param1 * x + self.param2 \n",
    "\n",
    "class ScaledTanhEncoding(nn.Module):\n",
    "    \"\"\"Non-linear encoding layer using f(x) = (pi/2) * (tanh(a * x + b) + 1)\"\"\"\n",
    "    def __init__(self):\n",
    "        super().__init__()\n",
    "        self.p1 = nn.Parameter(torch.tensor(np.random.randn()))\n",
    "        self.p2 = nn.Parameter(torch.tensor(np.random.randn()))\n",
    "\n",
    "    def forward(self, x):\n",
    "        return (torch.pi / 2) * (torch.tanh(self.p1 * x + self.p2) + 1)\n",
    "\n",
    "circuit_structure = []\n",
    "for k in range(2 * nlayers):\n",
    "    circuit_structure.append(\n",
    "        PhaseEncoding(\n",
    "            nqubits=nqubits,\n",
    "            encoding_gate=gates_list[k],\n",
    "            encoding_rule=ScaledTanhEncoding()\n",
    "        )\n",
    "    )\n",
    "\n",
    "# Decoding layer\n",
    "decoding_circ = Expectation(\n",
    "    nqubits=nqubits, \n",
    "    backend=construct_backend(\"qiboml\", platform=\"pytorch\")\n",
    ")\n",
    "# The whole model\n",
    "model = QuantumModel(\n",
    "    circuit_structure=circuit_structure,\n",
    "    decoding=decoding_circ,\n",
    ")\n",
    "\n",
    "_ = model.draw()"
   ]
  },
  {
   "cell_type": "code",
   "execution_count": 8,
   "id": "86e30597-1263-438e-b0be-669539f5e19a",
   "metadata": {},
   "outputs": [
    {
     "data": {
      "text/plain": [
       "tensor([[-0.2908]], dtype=torch.float64, grad_fn=<ViewBackward0>)"
      ]
     },
     "execution_count": 8,
     "metadata": {},
     "output_type": "execute_result"
    }
   ],
   "source": [
    "model(torch.tensor(0.5))"
   ]
  },
  {
   "cell_type": "code",
   "execution_count": 9,
   "id": "5e01b6ee-3fb4-4a7a-ab8c-697a1f3e6223",
   "metadata": {},
   "outputs": [
    {
     "name": "stderr",
     "output_type": "stream",
     "text": [
      "/tmp/ipykernel_43518/4177352912.py:3: DeprecationWarning: __array_wrap__ must accept context and return_scalar arguments (positionally) in the future. (Deprecated NumPy 2.0)\n",
      "  return np.exp(-100 * x**2)\n"
     ]
    }
   ],
   "source": [
    "# Prepare the training dataset (using f(x) = sin(x) as the target function)\n",
    "def f(x):\n",
    "    return np.exp(-100 * x**2)\n",
    "\n",
    "num_samples = 30\n",
    "x_train = torch.linspace(-1, 1 * np.pi, num_samples, dtype=torch.float64).unsqueeze(1)\n",
    "y_train = f(x_train)\n",
    "\n",
    "y_train = 2 * ( (y_train - min(y_train)) / (max(y_train) - min(y_train)) - 0.5 )"
   ]
  },
  {
   "cell_type": "code",
   "execution_count": 10,
   "id": "159cc515-65c4-4253-81db-d05f69996807",
   "metadata": {},
   "outputs": [],
   "source": [
    "optimizer = optim.Adam(model.parameters(), lr=0.1)\n",
    "criterion = nn.MSELoss()"
   ]
  },
  {
   "cell_type": "code",
   "execution_count": 11,
   "id": "10dcc7d7-c815-4529-a263-94d971b18fec",
   "metadata": {},
   "outputs": [
    {
     "name": "stdout",
     "output_type": "stream",
     "text": [
      "Epoch 0: Loss = 0.43326687095072436\n",
      "Epoch 10: Loss = 0.09300460665961802\n",
      "Epoch 20: Loss = 0.07425949452394366\n",
      "Epoch 30: Loss = 0.05113369700618761\n",
      "Epoch 40: Loss = 0.03155547188785586\n",
      "Epoch 50: Loss = 0.016159165187507034\n",
      "Epoch 60: Loss = 0.006731749857651871\n",
      "Epoch 70: Loss = 0.0028512539789306525\n",
      "Epoch 80: Loss = 0.0013262792301996578\n",
      "Epoch 90: Loss = 0.0006799866197943002\n",
      "Epoch 100: Loss = 0.00039044099141931967\n",
      "Epoch 110: Loss = 0.00024542513229722283\n",
      "Epoch 120: Loss = 0.0001665639177986766\n",
      "Epoch 130: Loss = 0.00012070314681404505\n",
      "Epoch 140: Loss = 9.22423861532966e-05\n"
     ]
    }
   ],
   "source": [
    "epochs = 150\n",
    "for epoch in range(epochs):\n",
    "    optimizer.zero_grad()\n",
    "    # Use torch.stack to get a tensor of shape (100, 1, 1)\n",
    "    y_pred = torch.stack([model(x) for x in x_train])\n",
    "    # Remove the extra singleton dimension so that y_pred has shape (100, 1)\n",
    "    y_pred = y_pred.squeeze(-1)\n",
    "    \n",
    "    loss = criterion(y_pred, y_train)\n",
    "    loss.backward()\n",
    "    optimizer.step()    \n",
    "    if epoch % 10 == 0:\n",
    "        print(f\"Epoch {epoch}: Loss = {loss.item()}\")"
   ]
  },
  {
   "cell_type": "code",
   "execution_count": 12,
   "id": "5f0adefa-bc35-4d03-ac4d-6b6408410879",
   "metadata": {},
   "outputs": [
    {
     "data": {
      "image/png": "[encoded data removed]",
      "text/plain": [
       "<Figure size 400x300 with 1 Axes>"
      ]
     },
     "metadata": {},
     "output_type": "display_data"
    }
   ],
   "source": [
    "plt.figure(figsize=(4, 4 * 6 / 8), dpi=100)\n",
    "plt.plot(\n",
    "    x_train, \n",
    "    y_pred.detach().numpy(), \n",
    "    marker=\".\",\n",
    "    markersize=10,\n",
    "    color=\"red\", \n",
    "    label=\"Predictions\",\n",
    "    alpha=0.7\n",
    ")\n",
    "plt.plot(\n",
    "    x_train, \n",
    "    y_train,\n",
    "    marker=\".\",\n",
    "    markersize=10,\n",
    "    color=\"blue\", \n",
    "    label=\"Targets\",\n",
    "    alpha=0.7\n",
    ")\n",
    "plt.xlabel(r\"x\")\n",
    "plt.ylabel(r\"f(x)\")\n",
    "plt.legend()\n",
    "plt.show()"
   ]
  },
  {
   "cell_type": "code",
   "execution_count": null,
   "id": "02eaa55e-b236-4258-8c56-dc952b020a48",
   "metadata": {},
   "outputs": [],
   "source": []
  }
 ],
 "metadata": {
  "kernelspec": {
   "display_name": "Python 3 (ipykernel)",
   "language": "python",
   "name": "python3"
  },
  "language_info": {
   "codemirror_mode": {
    "name": "ipython",
    "version": 3
   },
   "file_extension": ".py",
   "mimetype": "text/x-python",
   "name": "python",
   "nbconvert_exporter": "python",
   "pygments_lexer": "ipython3",
   "version": "3.11.11"
  }
 },
 "nbformat": 4,
 "nbformat_minor": 5
}
