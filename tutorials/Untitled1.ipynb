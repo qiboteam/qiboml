{
 "cells": [
  {
   "cell_type": "code",
   "execution_count": 1,
   "id": "7fc276e7-0d65-48df-ab2d-2e3aa8f34266",
   "metadata": {},
   "outputs": [
    {
     "name": "stderr",
     "output_type": "stream",
     "text": [
      "2025-05-14 15:42:53.363594: E external/local_xla/xla/stream_executor/cuda/cuda_fft.cc:467] Unable to register cuFFT factory: Attempting to register factory for plugin cuFFT when one has already been registered\n",
      "WARNING: All log messages before absl::InitializeLog() is called are written to STDERR\n",
      "E0000 00:00:1747230173.383387   56896 cuda_dnn.cc:8579] Unable to register cuDNN factory: Attempting to register factory for plugin cuDNN when one has already been registered\n",
      "E0000 00:00:1747230173.389201   56896 cuda_blas.cc:1407] Unable to register cuBLAS factory: Attempting to register factory for plugin cuBLAS when one has already been registered\n",
      "W0000 00:00:1747230173.403772   56896 computation_placer.cc:177] computation placer already registered. Please check linkage and avoid linking the same target more than once.\n",
      "W0000 00:00:1747230173.403798   56896 computation_placer.cc:177] computation placer already registered. Please check linkage and avoid linking the same target more than once.\n",
      "W0000 00:00:1747230173.403801   56896 computation_placer.cc:177] computation placer already registered. Please check linkage and avoid linking the same target more than once.\n",
      "W0000 00:00:1747230173.403803   56896 computation_placer.cc:177] computation placer already registered. Please check linkage and avoid linking the same target more than once.\n"
     ]
    }
   ],
   "source": [
    "import numpy as np\n",
    "from qiboml.models.encoding import PhaseEncoding\n",
    "from qiboml.models.decoding import Expectation\n",
    "from qiboml.interfaces.pytorch import QuantumModel\n",
    "from qiboml.operations.differentiation import PSR\n",
    "from qibo.backends import NumpyBackend"
   ]
  },
  {
   "cell_type": "code",
   "execution_count": 2,
   "id": "4b7286f4-56c8-4d26-88e6-7a6da2c5acb0",
   "metadata": {},
   "outputs": [
    {
     "data": {
      "text/plain": [
       "3"
      ]
     },
     "execution_count": 2,
     "metadata": {},
     "output_type": "execute_result"
    }
   ],
   "source": [
    "x = np.zeros(3)\n",
    "x.shape[-1]"
   ]
  },
  {
   "cell_type": "code",
   "execution_count": 3,
   "id": "3f6d8375-25b9-40c8-972a-657b2e015192",
   "metadata": {},
   "outputs": [],
   "source": [
    "rule = PSR()\n",
    "enc = PhaseEncoding(nqubits=3)"
   ]
  },
  {
   "cell_type": "code",
   "execution_count": 4,
   "id": "60704be0-d4ff-453d-917f-5ab24a8e729a",
   "metadata": {},
   "outputs": [
    {
     "data": {
      "text/plain": [
       "[0]"
      ]
     },
     "execution_count": 4,
     "metadata": {},
     "output_type": "execute_result"
    }
   ],
   "source": [
    "enc._data_to_gate[\"0\"]"
   ]
  },
  {
   "cell_type": "code",
   "execution_count": 5,
   "id": "4cd5a5bd-6602-44bc-b8c5-b19165127780",
   "metadata": {},
   "outputs": [
    {
     "name": "stderr",
     "output_type": "stream",
     "text": [
      "[Qibo 0.2.19|INFO|2025-05-14 15:42:59]: Using qibojit (numba) backend on /CPU:0\n"
     ]
    }
   ],
   "source": [
    "qm = QuantumModel(\n",
    "    circuit_structure=[enc, enc],\n",
    "    decoding=Expectation(nqubits=3),\n",
    "    differentiation=rule\n",
    ")"
   ]
  },
  {
   "cell_type": "code",
   "execution_count": 7,
   "id": "17f3fea3-9587-4f0e-abc5-b359eda0f69f",
   "metadata": {},
   "outputs": [
    {
     "name": "stdout",
     "output_type": "stream",
     "text": [
      "in enc\n",
      "3\n",
      "in enc\n",
      "6\n"
     ]
    },
    {
     "data": {
      "text/plain": [
       "{'0': [0, 3], '1': [1, 4], '2': [2, 5]}"
      ]
     },
     "execution_count": 7,
     "metadata": {},
     "output_type": "execute_result"
    }
   ],
   "source": [
    "qm.differentiation.get_data_map(\n",
    "    circuit_structure=[enc, enc],\n",
    "    backend=NumpyBackend(),\n",
    "    x=np.zeros(3),\n",
    ")"
   ]
  },
  {
   "cell_type": "code",
   "execution_count": 8,
   "id": "400ebd1c-3d2d-4cdf-b898-9d258cfdb4ea",
   "metadata": {},
   "outputs": [
    {
     "data": {
      "text/plain": [
       "{'0': [0, 3], '1': [1, 4], '2': [2, 5]}"
      ]
     },
     "execution_count": 8,
     "metadata": {},
     "output_type": "execute_result"
    }
   ],
   "source": [
    "qm.differentiation.data_map"
   ]
  },
  {
   "cell_type": "code",
   "execution_count": null,
   "id": "32ec376b-9fd8-4e14-bea5-33ef2bc91284",
   "metadata": {},
   "outputs": [],
   "source": []
  }
 ],
 "metadata": {
  "kernelspec": {
   "display_name": "Python 3 (ipykernel)",
   "language": "python",
   "name": "python3"
  },
  "language_info": {
   "codemirror_mode": {
    "name": "ipython",
    "version": 3
   },
   "file_extension": ".py",
   "mimetype": "text/x-python",
   "name": "python",
   "nbconvert_exporter": "python",
   "pygments_lexer": "ipython3",
   "version": "3.11.11"
  }
 },
 "nbformat": 4,
 "nbformat_minor": 5
}
