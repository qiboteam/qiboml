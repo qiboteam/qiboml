{
 "cells": [
  {
   "cell_type": "code",
   "execution_count": 580,
   "id": "d87dc7df-725c-43fb-90a7-6c6beb597cc4",
   "metadata": {},
   "outputs": [],
   "source": [
    "import numpy as np\n",
    "import matplotlib.pyplot as plt\n",
    "import torch\n",
    "\n",
    "# various backends from qibo and providers\n",
    "from qibo.backends import NumpyBackend, PyTorchBackend\n",
    "from qibojit.backends import NumbaBackend\n",
    "from qiboml.backends import TensorflowBackend\n",
    "\n",
    "# qibo objects\n",
    "import qibo\n",
    "from qibo import hamiltonians\n",
    "\n",
    "# qiboml models, operations and frontends constructors\n",
    "from qiboml.models import encoding, ansatze, decoding\n",
    "from qiboml.operations.differentiation import PSR\n",
    "from qiboml.interfaces import pytorch as torch_interface"
   ]
  },
  {
   "cell_type": "code",
   "execution_count": 581,
   "id": "c24e27f6-af5f-47c7-bee8-d241a6e3fb97",
   "metadata": {},
   "outputs": [
    {
     "data": {
      "text/plain": [
       "<module 'qiboml.interfaces.pytorch' from '/home/matteo/Documents/PhD/qiboml/src/qiboml/interfaces/pytorch.py'>"
      ]
     },
     "execution_count": 581,
     "metadata": {},
     "output_type": "execute_result"
    }
   ],
   "source": [
    "from importlib import reload\n",
    "reload(ansatze)\n",
    "reload(encoding)\n",
    "reload(torch_interface)"
   ]
  },
  {
   "cell_type": "code",
   "execution_count": 582,
   "id": "b7746152-a261-4545-8aaa-1a4dbfbeb30d",
   "metadata": {},
   "outputs": [],
   "source": [
    "np.random.seed(42)"
   ]
  },
  {
   "cell_type": "code",
   "execution_count": 583,
   "id": "3bc0c85c-5672-484c-882c-492b06f7be2c",
   "metadata": {},
   "outputs": [],
   "source": [
    "import numpy as np\n",
    "\n",
    "def generate_data(n, radius=0.3, center=(0.5, 0.5)):\n",
    "    \"\"\"Generate data in-out a circle.\"\"\"\n",
    "    data = np.random.rand(n, 2)\n",
    "    # Calculate distances from each point to the circle center\n",
    "    distances = np.linalg.norm(data - np.array(center), axis=1)\n",
    "    # Label as -1 if inside the circle, +1 if outside\n",
    "    labels = [-1 if dist <= radius else +1 for dist in distances]\n",
    "    return np.array(data), np.array(labels)\n",
    "\n",
    "\n",
    "def train_model(model, data, labels, epochs, nmessage=1):\n",
    "    \"\"\"Train model using Binary Cross Entropy loss without sigmoid activation,\n",
    "       classifying outputs based on positive and negative values.\"\"\"\n",
    "    \n",
    "    optimizer = torch.optim.Adam(model.parameters(), lr=0.05)\n",
    "    loss_f = torch.nn.BCEWithLogitsLoss()  # Use BCEWithLogitsLoss for raw model outputs\n",
    "    accuracies = []\n",
    "\n",
    "    for ep in range(epochs):\n",
    "        avg_loss = 0.0\n",
    "        correct_predictions = 0\n",
    "        total_predictions = 0\n",
    "\n",
    "        for x, y in zip(data, labels):\n",
    "            optimizer.zero_grad()\n",
    "            prediction = model(x)  # Get raw model outputs\n",
    "\n",
    "            # Convert labels from {-1, 1} to {0, 1}\n",
    "            binary_labels = (y + 1) / 2  # Convert -1 to 0, +1 to 1\n",
    "\n",
    "            # Calculate loss directly from model outputs\n",
    "            loss = loss_f(prediction.view(-1), binary_labels.view(-1))  # BCE with logits expects raw outputs\n",
    "            \n",
    "            # Perform backward pass and optimization step\n",
    "            loss.backward()\n",
    "            optimizer.step()\n",
    "\n",
    "            avg_loss += loss.item()  # Accumulate loss\n",
    "\n",
    "            # Convert predictions to binary classification: +1 if >= 0, -1 if < 0\n",
    "            preds = torch.where(prediction >= 0, torch.tensor(1.0), torch.tensor(-1.0))\n",
    "            correct_predictions += (preds.view(-1) == y.view(-1)).sum().item()\n",
    "            total_predictions += preds.size(0)  # Update total predictions based on batch size\n",
    "\n",
    "        avg_loss /= len(data)  # Calculate average loss\n",
    "        accuracy = correct_predictions / total_predictions if total_predictions > 0 else 0\n",
    "        accuracies.append(accuracy)\n",
    "\n",
    "        if (ep + 1) % nmessage == 0:\n",
    "            print(f\"Epoch {ep + 1}: avg loss: {avg_loss:.4f}, accuracy: {accuracy:.4f}\")\n"
   ]
  },
  {
   "cell_type": "code",
   "execution_count": 584,
   "id": "94c2aebc-7a4f-42db-8e56-54bede994da4",
   "metadata": {},
   "outputs": [],
   "source": [
    "data, labels = generate_data(150)"
   ]
  },
  {
   "cell_type": "code",
   "execution_count": 585,
   "id": "34cd8312-794d-4f0c-9b3a-7806b6da2a76",
   "metadata": {},
   "outputs": [
    {
     "data": {
      "text/plain": [
       "<matplotlib.collections.PathCollection at 0x7fa92faa8070>"
      ]
     },
     "execution_count": 585,
     "metadata": {},
     "output_type": "execute_result"
    },
    {
     "data": {
      "image/png": "[encoded data removed]",
      "text/plain": [
       "<Figure size 500x400 with 1 Axes>"
      ]
     },
     "metadata": {},
     "output_type": "display_data"
    }
   ],
   "source": [
    "plt.figure(figsize=(5,4))\n",
    "plt.scatter(data[labels == -1].T[0], data[labels == -1].T[1], color=\"red\", alpha=0.6)\n",
    "plt.scatter(data[labels == +1].T[0], data[labels == +1].T[1], color=\"blue\", alpha=0.6)"
   ]
  },
  {
   "cell_type": "code",
   "execution_count": 586,
   "id": "3b5ddbb6-971c-49d4-87b4-7f8fb61dd831",
   "metadata": {},
   "outputs": [],
   "source": [
    "data = torch.tensor(data, dtype=torch.float32)\n",
    "labels = torch.tensor(labels, dtype=torch.float32)"
   ]
  },
  {
   "cell_type": "code",
   "execution_count": 587,
   "id": "0a1cdd92-27d6-47dd-b943-31fc6867abc5",
   "metadata": {},
   "outputs": [
    {
     "name": "stderr",
     "output_type": "stream",
     "text": [
      "[Qibo 0.2.14|INFO|2024-11-04 18:23:24]: Using pytorch backend on cpu\n"
     ]
    }
   ],
   "source": [
    "# This is quite ambiguous\n",
    "qibo.set_backend(\"pytorch\")\n",
    "backend = PyTorchBackend()\n",
    "frontend = torch_interface"
   ]
  },
  {
   "cell_type": "code",
   "execution_count": 588,
   "id": "31472918-0ae2-422b-a752-548e2fb47241",
   "metadata": {},
   "outputs": [],
   "source": [
    "ndim = 2\n",
    "nqubits = 2\n",
    "nshots = None"
   ]
  },
  {
   "cell_type": "code",
   "execution_count": 589,
   "id": "e7008958-55a2-49fd-9295-75a8fa455b64",
   "metadata": {},
   "outputs": [],
   "source": [
    "obs = hamiltonians.Z(nqubits=nqubits)"
   ]
  },
  {
   "cell_type": "code",
   "execution_count": 590,
   "id": "ed1c000d-d458-43ca-a74f-c5655f0bb859",
   "metadata": {},
   "outputs": [
    {
     "ename": "UnboundLocalError",
     "evalue": "local variable 'self_circuit' referenced before assignment",
     "output_type": "error",
     "traceback": [
      "\u001b[0;31m---------------------------------------------------------------------------\u001b[0m",
      "\u001b[0;31mUnboundLocalError\u001b[0m                         Traceback (most recent call last)",
      "Cell \u001b[0;32mIn[590], line 1\u001b[0m\n\u001b[0;32m----> 1\u001b[0m encoding_layer \u001b[38;5;241m=\u001b[39m \u001b[43mencoding\u001b[49m\u001b[38;5;241;43m.\u001b[39;49m\u001b[43mReuploadingEncoding\u001b[49m\u001b[43m(\u001b[49m\n\u001b[1;32m      2\u001b[0m \u001b[43m    \u001b[49m\u001b[43mnqubits\u001b[49m\u001b[43m \u001b[49m\u001b[38;5;241;43m=\u001b[39;49m\u001b[43m \u001b[49m\u001b[38;5;241;43m2\u001b[39;49m\u001b[43m,\u001b[49m\n\u001b[1;32m      3\u001b[0m \u001b[43m    \u001b[49m\u001b[43mnlayers\u001b[49m\u001b[43m \u001b[49m\u001b[38;5;241;43m=\u001b[39;49m\u001b[43m \u001b[49m\u001b[38;5;241;43m1\u001b[39;49m\u001b[43m,\u001b[49m\n\u001b[1;32m      4\u001b[0m \u001b[43m    \u001b[49m\u001b[43mqubits\u001b[49m\u001b[43m \u001b[49m\u001b[38;5;241;43m=\u001b[39;49m\u001b[43m \u001b[49m\u001b[43m[\u001b[49m\u001b[38;5;241;43m0\u001b[39;49m\u001b[43m,\u001b[49m\u001b[43m \u001b[49m\u001b[38;5;241;43m1\u001b[39;49m\u001b[43m]\u001b[49m\u001b[43m,\u001b[49m\n\u001b[1;32m      5\u001b[0m \u001b[43m    \u001b[49m\u001b[43mdata_shape\u001b[49m\u001b[43m \u001b[49m\u001b[38;5;241;43m=\u001b[39;49m\u001b[43m \u001b[49m\u001b[43m(\u001b[49m\u001b[38;5;241;43m2\u001b[39;49m\u001b[43m,\u001b[49m\u001b[43m)\u001b[49m\n\u001b[1;32m      6\u001b[0m \u001b[43m)\u001b[49m\n\u001b[1;32m      7\u001b[0m training_layer \u001b[38;5;241m=\u001b[39m ansatze\u001b[38;5;241m.\u001b[39mlayered_ansatz(\n\u001b[1;32m      8\u001b[0m     nqubits \u001b[38;5;241m=\u001b[39m \u001b[38;5;241m2\u001b[39m,\n\u001b[1;32m      9\u001b[0m     qubits \u001b[38;5;241m=\u001b[39m [\u001b[38;5;241m0\u001b[39m, \u001b[38;5;241m1\u001b[39m],\n\u001b[1;32m     10\u001b[0m     entanglement\u001b[38;5;241m=\u001b[39m\u001b[38;5;28;01mFalse\u001b[39;00m,\n\u001b[1;32m     11\u001b[0m ) \n\u001b[1;32m     12\u001b[0m decoding_layer \u001b[38;5;241m=\u001b[39m decoding\u001b[38;5;241m.\u001b[39mExpectation(\n\u001b[1;32m     13\u001b[0m     nqubits\u001b[38;5;241m=\u001b[39mnqubits,\n\u001b[1;32m     14\u001b[0m     qubits\u001b[38;5;241m=\u001b[39m[\u001b[38;5;241m0\u001b[39m,\u001b[38;5;241m1\u001b[39m],\n\u001b[0;32m   (...)\u001b[0m\n\u001b[1;32m     17\u001b[0m     nshots\u001b[38;5;241m=\u001b[39m\u001b[38;5;28;01mNone\u001b[39;00m,\n\u001b[1;32m     18\u001b[0m )\n",
      "File \u001b[0;32m<string>:10\u001b[0m, in \u001b[0;36m__init__\u001b[0;34m(self, nqubits, qubits, _circuit, data_shape, nlayers, trainable_ansatz, encoding_gate)\u001b[0m\n",
      "File \u001b[0;32m~/Documents/PhD/qiboml/src/qiboml/models/encoding.py:107\u001b[0m, in \u001b[0;36mReuploadingEncoding.__post_init__\u001b[0;34m(self)\u001b[0m\n\u001b[1;32m    105\u001b[0m     \u001b[38;5;28mself\u001b[39m\u001b[38;5;241m.\u001b[39m_circuit\u001b[38;5;241m.\u001b[39madd(\u001b[38;5;28mself\u001b[39m\u001b[38;5;241m.\u001b[39mencoding_gate(q\u001b[38;5;241m=\u001b[39mq, theta\u001b[38;5;241m=\u001b[39m\u001b[38;5;241m0.\u001b[39m, trainable\u001b[38;5;241m=\u001b[39m\u001b[38;5;28;01mFalse\u001b[39;00m))\n\u001b[1;32m    106\u001b[0m \u001b[38;5;28;01mif\u001b[39;00m \u001b[38;5;28mself\u001b[39m\u001b[38;5;241m.\u001b[39mtrainable_ansatz \u001b[38;5;129;01mis\u001b[39;00m \u001b[38;5;28;01mNone\u001b[39;00m:\n\u001b[0;32m--> 107\u001b[0m     self_circuit \u001b[38;5;241m+\u001b[39m\u001b[38;5;241m=\u001b[39m layered_ansatz(nqubits\u001b[38;5;241m=\u001b[39m\u001b[38;5;28mself\u001b[39m\u001b[38;5;241m.\u001b[39mnqubits, qubits\u001b[38;5;241m=\u001b[39m\u001b[38;5;28mself\u001b[39m\u001b[38;5;241m.\u001b[39mqubits)\n",
      "\u001b[0;31mUnboundLocalError\u001b[0m: local variable 'self_circuit' referenced before assignment"
     ]
    }
   ],
   "source": [
    "encoding_layer = encoding.ReuploadingEncoding(\n",
    "    nqubits = 2,\n",
    "    nlayers = 1,\n",
    "    qubits = [0, 1],\n",
    "    data_shape = (2,)\n",
    ")\n",
    "training_layer = ansatze.layered_ansatz(\n",
    "    nqubits = 2,\n",
    "    qubits = [0, 1],\n",
    "    entanglement=False,\n",
    ") \n",
    "decoding_layer = decoding.Expectation(\n",
    "    nqubits=nqubits,\n",
    "    qubits=[0,1],\n",
    "    backend=backend,\n",
    "    observable=obs,\n",
    "    nshots=None,\n",
    ")"
   ]
  },
  {
   "cell_type": "code",
   "execution_count": 591,
   "id": "fec125ff-6727-4d8e-950e-cc3c9fd19c1c",
   "metadata": {},
   "outputs": [
    {
     "name": "stdout",
     "output_type": "stream",
     "text": [
      "tensor([0.3745, 0.9507, 0.7320, 0.5987, 0.3745, 0.9507, 0.7320, 0.5987, 0.1560,\n",
      "        0.1560, 0.0581, 0.8662], dtype=torch.float64, requires_grad=True)\n"
     ]
    }
   ],
   "source": [
    "q_model = frontend.QuantumModel(\n",
    "    encoding=encoding_layer, \n",
    "    trainable_circuit=training_layer, \n",
    "    decoding=decoding_layer,\n",
    "    differentiation_rule=None,\n",
    ")"
   ]
  },
  {
   "cell_type": "code",
   "execution_count": 520,
   "id": "ae20a6c6-3d2b-4edc-b478-e3510ba7e730",
   "metadata": {},
   "outputs": [
    {
     "name": "stdout",
     "output_type": "stream",
     "text": [
      "(0.0,)\n",
      "(0.0,)\n",
      "(0.0,)\n",
      "(0.0,)\n",
      "(tensor(0.3745),)\n",
      "(tensor(0.9507),)\n",
      "(0.0,)\n",
      "(0.0,)\n",
      "(0.0,)\n",
      "(0.0,)\n"
     ]
    }
   ],
   "source": [
    "encc = q_model.encoding(data[0])\n",
    "p = encc.get_parameters()\n",
    "for g in encc.parametrized_gates:\n",
    "    print(g.parameters)"
   ]
  },
  {
   "cell_type": "code",
   "execution_count": 521,
   "id": "1beb5142-582e-40a1-9cff-e88fc51ca470",
   "metadata": {},
   "outputs": [
    {
     "name": "stdout",
     "output_type": "stream",
     "text": [
      "q0: ─RY─RZ─o─X─RX─RY─RZ─o─X─RY─RZ─\n",
      "q1: ─RY─RZ─X─o─RX─RY─RZ─X─o─RY─RZ─\n"
     ]
    }
   ],
   "source": [
    "q_model.draw()"
   ]
  },
  {
   "cell_type": "code",
   "execution_count": 522,
   "id": "2671547e-4a30-4dcc-a91f-776a7b23f270",
   "metadata": {},
   "outputs": [
    {
     "data": {
      "text/plain": [
       "Parameter containing:\n",
       "tensor([0., 0., 0., 0., 0., 0., 0., 0., 0., 0., 0., 0.], dtype=torch.float64,\n",
       "       requires_grad=True)"
      ]
     },
     "execution_count": 522,
     "metadata": {},
     "output_type": "execute_result"
    }
   ],
   "source": [
    "q_model.trainable_parameters"
   ]
  },
  {
   "cell_type": "code",
   "execution_count": 523,
   "id": "47e9e5a9-1845-46bd-a749-4c1c55099ede",
   "metadata": {},
   "outputs": [
    {
     "name": "stdout",
     "output_type": "stream",
     "text": [
      "Epoch 1: avg loss: 1.3209, accuracy: 0.2667\n",
      "Epoch 2: avg loss: 1.3209, accuracy: 0.2667\n",
      "Epoch 3: avg loss: 1.3209, accuracy: 0.2667\n",
      "Epoch 4: avg loss: 1.3209, accuracy: 0.2667\n",
      "Epoch 5: avg loss: 1.3209, accuracy: 0.2667\n",
      "Epoch 6: avg loss: 1.3209, accuracy: 0.2667\n",
      "Epoch 7: avg loss: 1.3209, accuracy: 0.2667\n",
      "Epoch 8: avg loss: 1.3209, accuracy: 0.2667\n",
      "Epoch 9: avg loss: 1.3209, accuracy: 0.2667\n",
      "Epoch 10: avg loss: 1.3209, accuracy: 0.2667\n"
     ]
    }
   ],
   "source": [
    "losses = train_model(model=q_model, data=data, labels=labels, epochs=10, nmessage=1)"
   ]
  },
  {
   "cell_type": "code",
   "execution_count": 524,
   "id": "8935435c-ec70-4fe7-9ccc-a0c0b80757a7",
   "metadata": {},
   "outputs": [
    {
     "name": "stdout",
     "output_type": "stream",
     "text": [
      "(tensor(0., dtype=torch.float64, requires_grad=True),)\n",
      "(tensor(0., dtype=torch.float64, requires_grad=True),)\n",
      "(tensor(0., dtype=torch.float64, requires_grad=True),)\n",
      "(tensor(0., dtype=torch.float64, requires_grad=True),)\n",
      "(tensor(0.3745),)\n",
      "(tensor(0.9507),)\n",
      "(tensor(0., dtype=torch.float64, requires_grad=True),)\n",
      "(tensor(0., dtype=torch.float64, requires_grad=True),)\n",
      "(tensor(0., dtype=torch.float64, requires_grad=True),)\n",
      "(tensor(0., dtype=torch.float64, requires_grad=True),)\n"
     ]
    }
   ],
   "source": [
    "encc = q_model.encoding(data[0])\n",
    "p = encc.get_parameters()\n",
    "for g in encc.parametrized_gates:\n",
    "    print(g.parameters)"
   ]
  },
  {
   "cell_type": "code",
   "execution_count": null,
   "id": "8d5fa4ee-3b7f-48d1-9fe6-594639fbedf6",
   "metadata": {},
   "outputs": [],
   "source": []
  }
 ],
 "metadata": {
  "kernelspec": {
   "display_name": "Python 3 (ipykernel)",
   "language": "python",
   "name": "python3"
  },
  "language_info": {
   "codemirror_mode": {
    "name": "ipython",
    "version": 3
   },
   "file_extension": ".py",
   "mimetype": "text/x-python",
   "name": "python",
   "nbconvert_exporter": "python",
   "pygments_lexer": "ipython3",
   "version": "3.10.0"
  }
 },
 "nbformat": 4,
 "nbformat_minor": 5
}
